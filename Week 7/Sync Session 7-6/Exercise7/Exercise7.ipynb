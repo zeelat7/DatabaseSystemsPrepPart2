{
 "cells": [
  {
   "cell_type": "markdown",
   "metadata": {
    "deletable": true,
    "editable": true
   },
   "source": [
    "#  Week #7  -  Python Practice"
   ]
  },
  {
   "cell_type": "markdown",
   "metadata": {
    "deletable": true,
    "editable": true
   },
   "source": [
    "### Indicating and Describing “Heavy” XYZ Customers"
   ]
  },
  {
   "cell_type": "raw",
   "metadata": {
    "deletable": true,
    "editable": true
   },
   "source": [
    "In our last Practice we worked with text data to learn a bit about regular expressions and processing text data with pandas.  We're now going to turn back to the XYZ Company's data to do some data modification, recoding, and description.\n",
    "\n",
    "Crank up a Canopy IPython session, and import pandas (as pd), numpy (np), DataFrame and Series from pandas, and possibly SQLAlchemy.  “Possibly,” depending on whether you saved the XYZ customer data in that SQLite3 RDB xyz.db.   You'll need the data that was in xyzcust10, so wherever and however you stored them, you need them back in Canopy for this session.  In what follows we're going to read the data from the SQLite3 RDB.\n",
    "\n",
    "Now, here's why you need the data.  The XYZ marketing overlords want to learn more about who their good customers are.  From their perspective, a “good” customer is one that is buying a lot from XYZ.  Not surprising, eh?  To start with XYZ marketing wants you to explore the data that was in the xyzcust data file. This is the data that in Session 2 you read in from the file xyzcust10.xyz, and that you subsequently wrote out to the SQLite3 RDB xyz.rb as a table.  (You did, right?)  XYZ marketing wants you to identify XYZ's current and past “heavy buyers,” and to describe where they came from, i.e. through what channel they initially purchased from XYZ.  Based on your results, XYZ may subsequently request some more fine-grained analyses of its “heavies.”\n",
    "\n",
    "I'm going to connect to xyz.rb, which I've put in my current working directory.  I'll then look to see what the tables are in it.\n"
   ]
  },
  {
   "cell_type": "code",
   "execution_count": 1,
   "metadata": {
    "collapsed": false,
    "deletable": true,
    "editable": true
   },
   "outputs": [],
   "source": [
    "import os\n",
    "\n",
    "import cPickle as pickle\n",
    "\n",
    "import pandas as pd  # panda's nickname is pd\n",
    "\n",
    "import numpy as np  # numpy as np\n",
    "\n",
    "import sqlalchemy\n",
    "\n",
    "from pandas import DataFrame, Series, Categorical     # for convenience\n",
    "from sqlalchemy import create_engine\n",
    "from sqlalchemy import schema\n",
    "from sqlalchemy import inspect \t# helps us look at the tables in xyz.db\n"
   ]
  },
  {
   "cell_type": "code",
   "execution_count": 2,
   "metadata": {
    "collapsed": false,
    "deletable": true,
    "editable": true
   },
   "outputs": [],
   "source": [
    "engine=create_engine('sqlite:///xyz.db')\t    # the db is in my current working directory"
   ]
  },
  {
   "cell_type": "code",
   "execution_count": 3,
   "metadata": {
    "collapsed": false,
    "deletable": true,
    "editable": true
   },
   "outputs": [],
   "source": [
    "insp=inspect(engine)\t\t# get data about xyz that can be examined."
   ]
  },
  {
   "cell_type": "code",
   "execution_count": 4,
   "metadata": {
    "collapsed": false,
    "deletable": true,
    "editable": true
   },
   "outputs": [
    {
     "data": {
      "text/plain": [
       "[u'xyzcust', u'xyztrans']"
      ]
     },
     "execution_count": 4,
     "metadata": {},
     "output_type": "execute_result"
    }
   ],
   "source": [
    "insp.get_table_names()"
   ]
  },
  {
   "cell_type": "raw",
   "metadata": {
    "deletable": true,
    "editable": true
   },
   "source": [
    "This last statement should return the names of the tables in xyz.db.  Let's use pandas to read the xyzcust table into a DataFrame called xyzcust:"
   ]
  },
  {
   "cell_type": "raw",
   "metadata": {
    "deletable": true,
    "editable": true
   },
   "source": [
    "How many customer records are in xyzcust? \n",
    "\n",
    "There are a couple of variables in xyzcust that could be used to define “heavy buyers.”  They include:\n",
    "\n",
    "•\tLTD_SALES and LTD_TRANSACTIONS: life-to-date sales in dollars and purchase transactions, respectively;\n",
    "•\tYTD_SALES_2009 and YTD_TRANSACTIONS_2009: year-to-date sales and tranactions, respectively.\n",
    "\n",
    "The “LTD” variables aren't that useful since we don't know how long each customer has been a customer.  That leaves the YTD measures.  They at least refer to the same time period across all customers.   Did you know this is 2009?  Well, it is here.\n",
    "\n",
    "“Heavy” is in the eye of the beholder, and we need to define what it means, here.  Let's take a look at the distribution of the data on the YTD variables.\n"
   ]
  },
  {
   "cell_type": "code",
   "execution_count": 5,
   "metadata": {
    "collapsed": false,
    "deletable": true,
    "editable": true
   },
   "outputs": [
    {
     "data": {
      "text/html": [
       "<div>\n",
       "<table border=\"1\" class=\"dataframe\">\n",
       "  <thead>\n",
       "    <tr style=\"text-align: right;\">\n",
       "      <th></th>\n",
       "      <th>YTD_SALES_2009</th>\n",
       "      <th>YTD_TRANSACTIONS_2009</th>\n",
       "    </tr>\n",
       "  </thead>\n",
       "  <tbody>\n",
       "    <tr>\n",
       "      <th>count</th>\n",
       "      <td>30179.000000</td>\n",
       "      <td>30179.000000</td>\n",
       "    </tr>\n",
       "    <tr>\n",
       "      <th>mean</th>\n",
       "      <td>236.283972</td>\n",
       "      <td>0.844760</td>\n",
       "    </tr>\n",
       "    <tr>\n",
       "      <th>std</th>\n",
       "      <td>2117.042293</td>\n",
       "      <td>1.475401</td>\n",
       "    </tr>\n",
       "    <tr>\n",
       "      <th>min</th>\n",
       "      <td>0.000000</td>\n",
       "      <td>0.000000</td>\n",
       "    </tr>\n",
       "    <tr>\n",
       "      <th>25%</th>\n",
       "      <td>0.000000</td>\n",
       "      <td>0.000000</td>\n",
       "    </tr>\n",
       "    <tr>\n",
       "      <th>50%</th>\n",
       "      <td>0.000000</td>\n",
       "      <td>0.000000</td>\n",
       "    </tr>\n",
       "    <tr>\n",
       "      <th>75%</th>\n",
       "      <td>207.000000</td>\n",
       "      <td>1.000000</td>\n",
       "    </tr>\n",
       "    <tr>\n",
       "      <th>max</th>\n",
       "      <td>351000.000000</td>\n",
       "      <td>36.000000</td>\n",
       "    </tr>\n",
       "  </tbody>\n",
       "</table>\n",
       "</div>"
      ],
      "text/plain": [
       "       YTD_SALES_2009  YTD_TRANSACTIONS_2009\n",
       "count    30179.000000           30179.000000\n",
       "mean       236.283972               0.844760\n",
       "std       2117.042293               1.475401\n",
       "min          0.000000               0.000000\n",
       "25%          0.000000               0.000000\n",
       "50%          0.000000               0.000000\n",
       "75%        207.000000               1.000000\n",
       "max     351000.000000              36.000000"
      ]
     },
     "execution_count": 5,
     "metadata": {},
     "output_type": "execute_result"
    }
   ],
   "source": [
    "xyzcust=pd.read_sql_table('xyzcust',engine)\n",
    "xyzcust[['YTD_SALES_2009','YTD_TRANSACTIONS_2009']].describe()\n"
   ]
  },
  {
   "cell_type": "raw",
   "metadata": {
    "deletable": true,
    "editable": true
   },
   "source": [
    "which gives some summary statistics.  Hm. They make sense for the sales measure, but maybe not so much for the transactions, since this measure is a count measure.  pandas is treating it simply as an integer, so taking its average, standard deviation, etc.,  is somewhat sensible.   To get a better feel for this variable's data, we can look at the decile values of its distribution:"
   ]
  },
  {
   "cell_type": "code",
   "execution_count": 6,
   "metadata": {
    "collapsed": false,
    "deletable": true,
    "editable": true
   },
   "outputs": [],
   "source": [
    "pct=[x/10. for x in range(1,10)]\t\t# a simple list comprehension"
   ]
  },
  {
   "cell_type": "code",
   "execution_count": 7,
   "metadata": {
    "collapsed": false,
    "deletable": true,
    "editable": true
   },
   "outputs": [
    {
     "data": {
      "text/html": [
       "<div>\n",
       "<table border=\"1\" class=\"dataframe\">\n",
       "  <thead>\n",
       "    <tr style=\"text-align: right;\">\n",
       "      <th></th>\n",
       "      <th>YTD_SALES_2009</th>\n",
       "      <th>YTD_TRANSACTIONS_2009</th>\n",
       "    </tr>\n",
       "  </thead>\n",
       "  <tbody>\n",
       "    <tr>\n",
       "      <th>count</th>\n",
       "      <td>30179.000000</td>\n",
       "      <td>30179.000000</td>\n",
       "    </tr>\n",
       "    <tr>\n",
       "      <th>mean</th>\n",
       "      <td>236.283972</td>\n",
       "      <td>0.844760</td>\n",
       "    </tr>\n",
       "    <tr>\n",
       "      <th>std</th>\n",
       "      <td>2117.042293</td>\n",
       "      <td>1.475401</td>\n",
       "    </tr>\n",
       "    <tr>\n",
       "      <th>min</th>\n",
       "      <td>0.000000</td>\n",
       "      <td>0.000000</td>\n",
       "    </tr>\n",
       "    <tr>\n",
       "      <th>10%</th>\n",
       "      <td>0.000000</td>\n",
       "      <td>0.000000</td>\n",
       "    </tr>\n",
       "    <tr>\n",
       "      <th>20%</th>\n",
       "      <td>0.000000</td>\n",
       "      <td>0.000000</td>\n",
       "    </tr>\n",
       "    <tr>\n",
       "      <th>30%</th>\n",
       "      <td>0.000000</td>\n",
       "      <td>0.000000</td>\n",
       "    </tr>\n",
       "    <tr>\n",
       "      <th>40%</th>\n",
       "      <td>0.000000</td>\n",
       "      <td>0.000000</td>\n",
       "    </tr>\n",
       "    <tr>\n",
       "      <th>50%</th>\n",
       "      <td>0.000000</td>\n",
       "      <td>0.000000</td>\n",
       "    </tr>\n",
       "    <tr>\n",
       "      <th>60%</th>\n",
       "      <td>57.000000</td>\n",
       "      <td>1.000000</td>\n",
       "    </tr>\n",
       "    <tr>\n",
       "      <th>70%</th>\n",
       "      <td>144.000000</td>\n",
       "      <td>1.000000</td>\n",
       "    </tr>\n",
       "    <tr>\n",
       "      <th>80%</th>\n",
       "      <td>288.000000</td>\n",
       "      <td>1.000000</td>\n",
       "    </tr>\n",
       "    <tr>\n",
       "      <th>90%</th>\n",
       "      <td>609.000000</td>\n",
       "      <td>2.000000</td>\n",
       "    </tr>\n",
       "    <tr>\n",
       "      <th>max</th>\n",
       "      <td>351000.000000</td>\n",
       "      <td>36.000000</td>\n",
       "    </tr>\n",
       "  </tbody>\n",
       "</table>\n",
       "</div>"
      ],
      "text/plain": [
       "       YTD_SALES_2009  YTD_TRANSACTIONS_2009\n",
       "count    30179.000000           30179.000000\n",
       "mean       236.283972               0.844760\n",
       "std       2117.042293               1.475401\n",
       "min          0.000000               0.000000\n",
       "10%          0.000000               0.000000\n",
       "20%          0.000000               0.000000\n",
       "30%          0.000000               0.000000\n",
       "40%          0.000000               0.000000\n",
       "50%          0.000000               0.000000\n",
       "60%         57.000000               1.000000\n",
       "70%        144.000000               1.000000\n",
       "80%        288.000000               1.000000\n",
       "90%        609.000000               2.000000\n",
       "max     351000.000000              36.000000"
      ]
     },
     "execution_count": 7,
     "metadata": {},
     "output_type": "execute_result"
    }
   ],
   "source": [
    "xyzcust[['YTD_SALES_2009','YTD_TRANSACTIONS_2009']].describe(percentiles=pct)\n"
   ]
  },
  {
   "cell_type": "raw",
   "metadata": {
    "deletable": true,
    "editable": true
   },
   "source": [
    "You'll note a couple of things from your result.  One is that half of the customers had have no recorded transactions.  And, the 90% percentile is just two transactions. There is a customer with 36 transactions, which is a lot compared to customers on the whole.  If 36 transactions is the maximum value, what percentile would it correspond to it?   It appears that the transaction data distribution has a positive skew.  That is, it has a long tail to the right.  The same is true of the sales data.  This is often the case for data that are left truncated.  In this case, both are left truncated at zero.  Neither can have negative values, at least in principle.\n",
    "\n",
    "XYZ has somewhat arbitrarily classified its customers into three BUYER_STATUS groups, defined as follows:\n",
    "\n",
    "•\tActive -  A customer with a purchase within the last 12 months as of Dec. 31, 2009\n",
    "•\tLapsed - A customer with a purchase 13-24 months ago as of Dec. 31, 2009\n",
    "•\tInactive - A customer with a purchase >24 months ago as of Dec. 31, 2009\n",
    "\n",
    "How many of each kind of customers are there?\n"
   ]
  },
  {
   "cell_type": "code",
   "execution_count": 8,
   "metadata": {
    "collapsed": false,
    "deletable": true,
    "editable": true
   },
   "outputs": [
    {
     "data": {
      "text/plain": [
       "<bound method Series.describe of 0        INACTIVE\n",
       "1          ACTIVE\n",
       "2          ACTIVE\n",
       "3        INACTIVE\n",
       "4          ACTIVE\n",
       "5          ACTIVE\n",
       "6          ACTIVE\n",
       "7          ACTIVE\n",
       "8        INACTIVE\n",
       "9        INACTIVE\n",
       "10         ACTIVE\n",
       "11         LAPSED\n",
       "12         ACTIVE\n",
       "13       INACTIVE\n",
       "14         ACTIVE\n",
       "15       INACTIVE\n",
       "16         LAPSED\n",
       "17         ACTIVE\n",
       "18         ACTIVE\n",
       "19         ACTIVE\n",
       "20       INACTIVE\n",
       "21         ACTIVE\n",
       "22       INACTIVE\n",
       "23       INACTIVE\n",
       "24         ACTIVE\n",
       "25         ACTIVE\n",
       "26         LAPSED\n",
       "27         ACTIVE\n",
       "28         ACTIVE\n",
       "29         LAPSED\n",
       "           ...   \n",
       "30149      ACTIVE\n",
       "30150      ACTIVE\n",
       "30151      ACTIVE\n",
       "30152      ACTIVE\n",
       "30153      ACTIVE\n",
       "30154    INACTIVE\n",
       "30155      LAPSED\n",
       "30156      LAPSED\n",
       "30157      ACTIVE\n",
       "30158      LAPSED\n",
       "30159    INACTIVE\n",
       "30160      LAPSED\n",
       "30161      LAPSED\n",
       "30162      ACTIVE\n",
       "30163      ACTIVE\n",
       "30164    INACTIVE\n",
       "30165      ACTIVE\n",
       "30166      ACTIVE\n",
       "30167      ACTIVE\n",
       "30168    INACTIVE\n",
       "30169      ACTIVE\n",
       "30170      ACTIVE\n",
       "30171    INACTIVE\n",
       "30172    INACTIVE\n",
       "30173      LAPSED\n",
       "30174      ACTIVE\n",
       "30175      ACTIVE\n",
       "30176    INACTIVE\n",
       "30177    INACTIVE\n",
       "30178      ACTIVE\n",
       "Name: BUYER_STATUS, dtype: object>"
      ]
     },
     "execution_count": 8,
     "metadata": {},
     "output_type": "execute_result"
    }
   ],
   "source": [
    "# xyzcust.BUYER_STATUS.<tab>\t# pick the method you need.\n",
    "\n",
    "xyzcust.BUYER_STATUS.describe  \t# pick the method you need."
   ]
  },
  {
   "cell_type": "raw",
   "metadata": {
    "deletable": true,
    "editable": true
   },
   "source": [
    "pandas has automatically typed this variable by default as a type “object,” but it could be considered to be a categorical variable.  We can make it categorical.  By doing so it acquires a different set of attributes and methods:"
   ]
  },
  {
   "cell_type": "code",
   "execution_count": 9,
   "metadata": {
    "collapsed": false,
    "deletable": true,
    "editable": true
   },
   "outputs": [],
   "source": [
    "#xyzcust.BUYER_STATUS.count\n",
    "\n",
    "buyer_status = Categorical(xyzcust['BUYER_STATUS'])\n"
   ]
  },
  {
   "cell_type": "code",
   "execution_count": 10,
   "metadata": {
    "collapsed": false,
    "deletable": true,
    "editable": true
   },
   "outputs": [
    {
     "data": {
      "text/html": [
       "<div>\n",
       "<table border=\"1\" class=\"dataframe\">\n",
       "  <thead>\n",
       "    <tr style=\"text-align: right;\">\n",
       "      <th></th>\n",
       "      <th>counts</th>\n",
       "      <th>freqs</th>\n",
       "    </tr>\n",
       "    <tr>\n",
       "      <th>categories</th>\n",
       "      <th></th>\n",
       "      <th></th>\n",
       "    </tr>\n",
       "  </thead>\n",
       "  <tbody>\n",
       "    <tr>\n",
       "      <th>ACTIVE</th>\n",
       "      <td>13332</td>\n",
       "      <td>0.441764</td>\n",
       "    </tr>\n",
       "    <tr>\n",
       "      <th>INACTIVE</th>\n",
       "      <td>8996</td>\n",
       "      <td>0.298088</td>\n",
       "    </tr>\n",
       "    <tr>\n",
       "      <th>LAPSED</th>\n",
       "      <td>7851</td>\n",
       "      <td>0.260148</td>\n",
       "    </tr>\n",
       "  </tbody>\n",
       "</table>\n",
       "</div>"
      ],
      "text/plain": [
       "            counts     freqs\n",
       "categories                  \n",
       "ACTIVE       13332  0.441764\n",
       "INACTIVE      8996  0.298088\n",
       "LAPSED        7851  0.260148"
      ]
     },
     "execution_count": 10,
     "metadata": {},
     "output_type": "execute_result"
    }
   ],
   "source": [
    "buyer_status.describe()"
   ]
  },
  {
   "cell_type": "raw",
   "metadata": {
    "deletable": true,
    "editable": true
   },
   "source": [
    "\n",
    "If you do:\n"
   ]
  },
  {
   "cell_type": "code",
   "execution_count": 11,
   "metadata": {
    "collapsed": false,
    "deletable": true,
    "editable": true
   },
   "outputs": [
    {
     "data": {
      "text/plain": [
       "<bound method Categorical.unique of [INACTIVE, ACTIVE, ACTIVE, INACTIVE, ACTIVE, ..., ACTIVE, ACTIVE, INACTIVE, INACTIVE, ACTIVE]\n",
       "Length: 30179\n",
       "Categories (3, object): [ACTIVE, INACTIVE, LAPSED]>"
      ]
     },
     "execution_count": 11,
     "metadata": {},
     "output_type": "execute_result"
    }
   ],
   "source": [
    "buyer_status.unique"
   ]
  },
  {
   "cell_type": "raw",
   "metadata": {
    "deletable": true,
    "editable": true
   },
   "source": [
    "you'll see that pandas has ordered the categories ACTIVE<INACTIVE<LAPSED.  If you think that the order should be ACTIVE>INACTIVE>LAPSED instead (isn't ACTIVE “better than” INACTIVE?), you can reorder them:"
   ]
  },
  {
   "cell_type": "code",
   "execution_count": 12,
   "metadata": {
    "collapsed": false,
    "deletable": true,
    "editable": true
   },
   "outputs": [],
   "source": [
    "buyer_status_ordered=buyer_status.reorder_categories(['LAPSED','INACTIVE','ACTIVE'])\n"
   ]
  },
  {
   "cell_type": "raw",
   "metadata": {
    "deletable": true,
    "editable": true
   },
   "source": [
    "And so:"
   ]
  },
  {
   "cell_type": "code",
   "execution_count": 13,
   "metadata": {
    "collapsed": false,
    "deletable": true,
    "editable": true
   },
   "outputs": [
    {
     "data": {
      "text/html": [
       "<div>\n",
       "<table border=\"1\" class=\"dataframe\">\n",
       "  <thead>\n",
       "    <tr style=\"text-align: right;\">\n",
       "      <th></th>\n",
       "      <th>counts</th>\n",
       "      <th>freqs</th>\n",
       "    </tr>\n",
       "    <tr>\n",
       "      <th>categories</th>\n",
       "      <th></th>\n",
       "      <th></th>\n",
       "    </tr>\n",
       "  </thead>\n",
       "  <tbody>\n",
       "    <tr>\n",
       "      <th>LAPSED</th>\n",
       "      <td>7851</td>\n",
       "      <td>0.260148</td>\n",
       "    </tr>\n",
       "    <tr>\n",
       "      <th>INACTIVE</th>\n",
       "      <td>8996</td>\n",
       "      <td>0.298088</td>\n",
       "    </tr>\n",
       "    <tr>\n",
       "      <th>ACTIVE</th>\n",
       "      <td>13332</td>\n",
       "      <td>0.441764</td>\n",
       "    </tr>\n",
       "  </tbody>\n",
       "</table>\n",
       "</div>"
      ],
      "text/plain": [
       "            counts     freqs\n",
       "categories                  \n",
       "LAPSED        7851  0.260148\n",
       "INACTIVE      8996  0.298088\n",
       "ACTIVE       13332  0.441764"
      ]
     },
     "execution_count": 13,
     "metadata": {},
     "output_type": "execute_result"
    }
   ],
   "source": [
    "buyer_status_ordered.describe()"
   ]
  },
  {
   "cell_type": "raw",
   "metadata": {
    "deletable": true,
    "editable": true
   },
   "source": [
    "The rows above are now ordered “low category” to “high category.”\n",
    "\n",
    "Now getting back to the defining heavy buyers, it's logical that XYZ's heavy buyers should be ACTIVE buyers, since XYZ thinks of them as being customers who are buying a lot, not who just may have bought a lot in the past.  So let's look at just the ACTIVES' most recent purchasing:\n"
   ]
  },
  {
   "cell_type": "code",
   "execution_count": 14,
   "metadata": {
    "collapsed": false,
    "deletable": true,
    "editable": true
   },
   "outputs": [
    {
     "data": {
      "text/plain": [
       "count     13332.000000\n",
       "mean        534.864536\n",
       "std        3160.079031\n",
       "min           3.000000\n",
       "10%          60.000000\n",
       "20%          93.000000\n",
       "30%         132.000000\n",
       "40%         180.000000\n",
       "50%         246.000000\n",
       "60%         333.000000\n",
       "70%         468.000000\n",
       "80%         684.000000\n",
       "90%        1154.700000\n",
       "max      351000.000000\n",
       "Name: YTD_SALES_2009, dtype: float64"
      ]
     },
     "execution_count": 14,
     "metadata": {},
     "output_type": "execute_result"
    }
   ],
   "source": [
    "xyzcust.YTD_SALES_2009[buyer_status_ordered==\"ACTIVE\"].describe(percentiles=pct)\n"
   ]
  },
  {
   "cell_type": "raw",
   "metadata": {
    "deletable": true,
    "editable": true
   },
   "source": [
    "You can see from the percentiles that the data appear to have a positive skew, and that the largest value is more than $35,000.    You can get a closer look at how most of the data are distributed in a histogram by ignoring values greater than $900:"
   ]
  },
  {
   "cell_type": "code",
   "execution_count": 15,
   "metadata": {
    "collapsed": false,
    "deletable": true,
    "editable": true
   },
   "outputs": [
    {
     "data": {
      "text/plain": [
       "<matplotlib.axes._subplots.AxesSubplot at 0x1104f2c50>"
      ]
     },
     "execution_count": 15,
     "metadata": {},
     "output_type": "execute_result"
    }
   ],
   "source": [
    "xyzcust.YTD_SALES_2009[buyer_status_ordered==\"ACTIVE\"].hist(bins=30,range=(0,900))\n"
   ]
  },
  {
   "cell_type": "raw",
   "metadata": {
    "deletable": true,
    "editable": true
   },
   "source": [
    "This should display a figure box for you with a histogram with 30 vertical bars going from 0 to 900.\n",
    "\n",
    "Hm.  Are there any “actives” with no purchases this year? (In 2009, that is.) \n"
   ]
  },
  {
   "cell_type": "code",
   "execution_count": 16,
   "metadata": {
    "collapsed": false,
    "deletable": true,
    "editable": true
   },
   "outputs": [
    {
     "data": {
      "text/plain": [
       "0"
      ]
     },
     "execution_count": 16,
     "metadata": {},
     "output_type": "execute_result"
    }
   ],
   "source": [
    "xyzcust.YTD_SALES_2009[(xyzcust.BUYER_STATUS==\"ACTIVE\") & (xyzcust.YTD_SALES_2009<=0)].sum()\n"
   ]
  },
  {
   "cell_type": "raw",
   "metadata": {
    "deletable": true,
    "editable": true
   },
   "source": [
    "Are there any?\n",
    "\n",
    "So, assuming that we'll use YTD_SALES_2009 to define who the heavy buyers are, how much should a buyer need to spend to be a “heavy?”  So now XYZ marketing steps in, and without recourse to data they decide they want to define the heavies as those who have spend more than at least 67% of all ACTIVEs in 2009.   To create a variable that tells which customers are heavy buyers, a “heavy indicator” that can be used for selecting and analyzing heavy customers, we need to know what 2009 purchase amount separates them from the rest of XYZ's customers.  The heavies will have spent above that amount in 2009, and the rest (the 'lights?') will have spent less.  That amount corresponds to the 67th percentile of the distribution of ACTIVE's 2009 purchase amounts.  And the answer is:\n"
   ]
  },
  {
   "cell_type": "code",
   "execution_count": 17,
   "metadata": {
    "collapsed": false,
    "deletable": true,
    "editable": true
   },
   "outputs": [
    {
     "data": {
      "text/plain": [
       "423.0"
      ]
     },
     "execution_count": 17,
     "metadata": {},
     "output_type": "execute_result"
    }
   ],
   "source": [
    "xyzcust.YTD_SALES_2009[(buyer_status_ordered==\"ACTIVE\") ].quantile(0.67)"
   ]
  },
  {
   "cell_type": "raw",
   "metadata": {
    "deletable": true,
    "editable": true
   },
   "source": [
    "Let's assign this value as a constant to:"
   ]
  },
  {
   "cell_type": "code",
   "execution_count": 18,
   "metadata": {
    "collapsed": false,
    "deletable": true,
    "editable": true
   },
   "outputs": [],
   "source": [
    "heavyCut= 423  #heavyCut is a constant"
   ]
  },
  {
   "cell_type": "raw",
   "metadata": {
    "deletable": true,
    "editable": true
   },
   "source": [
    "Now let's create a heavy buyer indicator variable by using heavyCut.  This can be done in more than one way.  In what follows we first create a two category variable, and then we use it to create two, dummy coded indicator variables."
   ]
  },
  {
   "cell_type": "code",
   "execution_count": 19,
   "metadata": {
    "collapsed": false,
    "deletable": true,
    "editable": true
   },
   "outputs": [],
   "source": [
    "heavyCat=Categorical(np.where(xyzcust.YTD_SALES_2009>heavyCut,1,0))"
   ]
  },
  {
   "cell_type": "raw",
   "metadata": {
    "deletable": true,
    "editable": true
   },
   "source": [
    "heavyCat is a pandas Categorical object, an array of sorts on which values fall into one of a number of discrete categories, of which there are two in this case.   Heavy buyers have a category of “1” on heavyCat, and the rest of the buyers have a “0.”  Let's give those two categories more descriptive names."
   ]
  },
  {
   "cell_type": "code",
   "execution_count": 20,
   "metadata": {
    "collapsed": false,
    "deletable": true,
    "editable": true
   },
   "outputs": [
    {
     "data": {
      "text/html": [
       "<div>\n",
       "<table border=\"1\" class=\"dataframe\">\n",
       "  <thead>\n",
       "    <tr style=\"text-align: right;\">\n",
       "      <th></th>\n",
       "      <th>counts</th>\n",
       "      <th>freqs</th>\n",
       "    </tr>\n",
       "    <tr>\n",
       "      <th>categories</th>\n",
       "      <th></th>\n",
       "      <th></th>\n",
       "    </tr>\n",
       "  </thead>\n",
       "  <tbody>\n",
       "    <tr>\n",
       "      <th>0</th>\n",
       "      <td>25795</td>\n",
       "      <td>0.854733</td>\n",
       "    </tr>\n",
       "    <tr>\n",
       "      <th>1</th>\n",
       "      <td>4384</td>\n",
       "      <td>0.145267</td>\n",
       "    </tr>\n",
       "  </tbody>\n",
       "</table>\n",
       "</div>"
      ],
      "text/plain": [
       "            counts     freqs\n",
       "categories                  \n",
       "0            25795  0.854733\n",
       "1             4384  0.145267"
      ]
     },
     "execution_count": 20,
     "metadata": {},
     "output_type": "execute_result"
    }
   ],
   "source": [
    "heavyCat.describe()"
   ]
  },
  {
   "cell_type": "code",
   "execution_count": 21,
   "metadata": {
    "collapsed": false,
    "deletable": true,
    "editable": true
   },
   "outputs": [],
   "source": [
    "heavyCat.rename_categories(['regular','heavy'],inplace=True)"
   ]
  },
  {
   "cell_type": "raw",
   "metadata": {
    "deletable": true,
    "editable": true
   },
   "source": [
    "Note the somewhat risky inplace=True option, which means that heavyCat is modified “in place.”  A generally safer alternative is to put this statement without the inplace option on the right hand side of an assignment to a new Categorical object.  But if we messed up here, backing up a step or two wouldn't be all that painful as we still have all the necessary ingredients to get to where we need to go.  (As long as your session hasn't crashed, of course.)"
   ]
  },
  {
   "cell_type": "code",
   "execution_count": 22,
   "metadata": {
    "collapsed": false,
    "deletable": true,
    "editable": true
   },
   "outputs": [
    {
     "data": {
      "text/html": [
       "<div>\n",
       "<table border=\"1\" class=\"dataframe\">\n",
       "  <thead>\n",
       "    <tr style=\"text-align: right;\">\n",
       "      <th></th>\n",
       "      <th>counts</th>\n",
       "      <th>freqs</th>\n",
       "    </tr>\n",
       "    <tr>\n",
       "      <th>categories</th>\n",
       "      <th></th>\n",
       "      <th></th>\n",
       "    </tr>\n",
       "  </thead>\n",
       "  <tbody>\n",
       "    <tr>\n",
       "      <th>regular</th>\n",
       "      <td>25795</td>\n",
       "      <td>0.854733</td>\n",
       "    </tr>\n",
       "    <tr>\n",
       "      <th>heavy</th>\n",
       "      <td>4384</td>\n",
       "      <td>0.145267</td>\n",
       "    </tr>\n",
       "  </tbody>\n",
       "</table>\n",
       "</div>"
      ],
      "text/plain": [
       "            counts     freqs\n",
       "categories                  \n",
       "regular      25795  0.854733\n",
       "heavy         4384  0.145267"
      ]
     },
     "execution_count": 22,
     "metadata": {},
     "output_type": "execute_result"
    }
   ],
   "source": [
    "heavyCat.describe()"
   ]
  },
  {
   "cell_type": "raw",
   "metadata": {
    "deletable": true,
    "editable": true
   },
   "source": [
    "Your results may be different than the above. Why might that be?  Also, why do you think that the heavy customers might comprise only about 15% of the sample in this table?  (See the “freqs” column which shows relative frequencies.)\n",
    "\n",
    "If you just type heavyCat.describe() at the command prompt you should get a pretty table.\n",
    "\n",
    "We named the “non-heavy” customers “regular” as we weren't sure how light they might be.\n",
    "\n",
    "Now let's use heavyCat to make some dummy indicator variables. \n"
   ]
  },
  {
   "cell_type": "code",
   "execution_count": 23,
   "metadata": {
    "collapsed": false,
    "deletable": true,
    "editable": true
   },
   "outputs": [],
   "source": [
    "buyerType=pd.get_dummies(heavyCat)"
   ]
  },
  {
   "cell_type": "code",
   "execution_count": 24,
   "metadata": {
    "collapsed": false,
    "deletable": true,
    "editable": true
   },
   "outputs": [
    {
     "data": {
      "text/html": [
       "<div>\n",
       "<table border=\"1\" class=\"dataframe\">\n",
       "  <thead>\n",
       "    <tr style=\"text-align: right;\">\n",
       "      <th></th>\n",
       "      <th>regular</th>\n",
       "      <th>heavy</th>\n",
       "    </tr>\n",
       "  </thead>\n",
       "  <tbody>\n",
       "    <tr>\n",
       "      <th>0</th>\n",
       "      <td>1</td>\n",
       "      <td>0</td>\n",
       "    </tr>\n",
       "    <tr>\n",
       "      <th>1</th>\n",
       "      <td>0</td>\n",
       "      <td>1</td>\n",
       "    </tr>\n",
       "    <tr>\n",
       "      <th>2</th>\n",
       "      <td>1</td>\n",
       "      <td>0</td>\n",
       "    </tr>\n",
       "    <tr>\n",
       "      <th>3</th>\n",
       "      <td>1</td>\n",
       "      <td>0</td>\n",
       "    </tr>\n",
       "    <tr>\n",
       "      <th>4</th>\n",
       "      <td>1</td>\n",
       "      <td>0</td>\n",
       "    </tr>\n",
       "  </tbody>\n",
       "</table>\n",
       "</div>"
      ],
      "text/plain": [
       "   regular  heavy\n",
       "0        1      0\n",
       "1        0      1\n",
       "2        1      0\n",
       "3        1      0\n",
       "4        1      0"
      ]
     },
     "execution_count": 24,
     "metadata": {},
     "output_type": "execute_result"
    }
   ],
   "source": [
    "buyerType.head()"
   ]
  },
  {
   "cell_type": "raw",
   "metadata": {
    "deletable": true,
    "editable": true
   },
   "source": [
    "buyerType is a DataFrame.  How many columns does it have?  What are their names?\n",
    "\n",
    "We're almost done with this Practice, but before we wrap things up let's spend a moment or two considering those rather large values in YTD_SALES_2009 and YTD_TRANACTIONS_2009.  These were a little surprising, right?  Unexpected data values are often referred to as “outliers” in the sense that they are unusual, unexpected, and in some way very different from other data values.  In the case of these variables, the customers with the largest values are:\n"
   ]
  },
  {
   "cell_type": "code",
   "execution_count": 25,
   "metadata": {
    "collapsed": false,
    "deletable": true,
    "editable": true
   },
   "outputs": [
    {
     "data": {
      "text/html": [
       "<div>\n",
       "<table border=\"1\" class=\"dataframe\">\n",
       "  <thead>\n",
       "    <tr style=\"text-align: right;\">\n",
       "      <th></th>\n",
       "      <th>index</th>\n",
       "      <th>ACCTNO</th>\n",
       "      <th>ZIP</th>\n",
       "      <th>ZIP4</th>\n",
       "      <th>LTD_SALES</th>\n",
       "      <th>LTD_TRANSACTIONS</th>\n",
       "      <th>YTD_SALES_2009</th>\n",
       "      <th>YTD_TRANSACTIONS_2009</th>\n",
       "      <th>CHANNEL_ACQUISITION</th>\n",
       "      <th>BUYER_STATUS</th>\n",
       "      <th>ZIP9_SUPERCODE</th>\n",
       "    </tr>\n",
       "  </thead>\n",
       "  <tbody>\n",
       "    <tr>\n",
       "      <th>1756</th>\n",
       "      <td>1773</td>\n",
       "      <td>PPHDLSPGP</td>\n",
       "      <td>60067</td>\n",
       "      <td>8002</td>\n",
       "      <td>33993.0</td>\n",
       "      <td>175</td>\n",
       "      <td>6429.0</td>\n",
       "      <td>36</td>\n",
       "      <td>CB</td>\n",
       "      <td>ACTIVE</td>\n",
       "      <td>600678002</td>\n",
       "    </tr>\n",
       "    <tr>\n",
       "      <th>1855</th>\n",
       "      <td>1872</td>\n",
       "      <td>LLSYGYDAY</td>\n",
       "      <td>60074</td>\n",
       "      <td>0</td>\n",
       "      <td>2247750.0</td>\n",
       "      <td>84</td>\n",
       "      <td>351000.0</td>\n",
       "      <td>19</td>\n",
       "      <td>CB</td>\n",
       "      <td>ACTIVE</td>\n",
       "      <td>600746495</td>\n",
       "    </tr>\n",
       "  </tbody>\n",
       "</table>\n",
       "</div>"
      ],
      "text/plain": [
       "      index     ACCTNO    ZIP  ZIP4  LTD_SALES  LTD_TRANSACTIONS  \\\n",
       "1756   1773  PPHDLSPGP  60067  8002    33993.0               175   \n",
       "1855   1872  LLSYGYDAY  60074     0  2247750.0                84   \n",
       "\n",
       "      YTD_SALES_2009  YTD_TRANSACTIONS_2009 CHANNEL_ACQUISITION BUYER_STATUS  \\\n",
       "1756          6429.0                     36                  CB       ACTIVE   \n",
       "1855        351000.0                     19                  CB       ACTIVE   \n",
       "\n",
       "      ZIP9_SUPERCODE  \n",
       "1756       600678002  \n",
       "1855       600746495  "
      ]
     },
     "execution_count": 25,
     "metadata": {},
     "output_type": "execute_result"
    }
   ],
   "source": [
    "xyzcust[(xyzcust.YTD_SALES_2009==max(xyzcust.YTD_SALES_2009))|(xyzcust.YTD_TRANSACTIONS_2009==max(xyzcust.YTD_TRANSACTIONS_2009))]\n"
   ]
  },
  {
   "cell_type": "raw",
   "metadata": {
    "deletable": true,
    "editable": true
   },
   "source": [
    "You can separate the above into statements if all the brackets and parens in it are giving you grief.  Or, you could use the logical statements to create an index to select rows from xyzcust.\n",
    "\n",
    "Now, the question is, are the data values for these customers valid, or are they erroneous in some way?  If you could assume that some statistical distribution should describe the data, then you could use it to identify “surprising' data points.  The Normal, or Gaussian, distribution is often used for this purpose.  Looking back at the histogram you plotted earlier, do you think the data are likely to be from a Normal distribution?  Both variables are measures that are left-truncated at zero, meaning that they can't have negative values.  YTD_TRANSACTIONS_2009 measures counts of purchase transactions, so it's not really a continuous variable.  What shape or distribution would you say either variable's data should have?  This is obviously a difficult question to answer, and especially so if you don't know about the circumstances from which the data arose.\n",
    "\n",
    "How to deal with extreme values that might be “outliers” requires good judgment and some domain expertise.  Many tactics used involve throwing out extreme data points or modifying them in some way so as to reduce their influence on statistical estimators.  “Winsorizing” is a venerable method for dealing with outliers that's pretty much an ad hoc method, and can be appropriate for situations in which outliers are due to some kind of measurement error.  It consists of collapsing the tails of a data distribution so that extreme values below or above specific percentile cutoffs, e.g. the values corresponding to 5% and 95%, are replaced with the values at those percentages.  We can Winsorize YTD_SALES_2009 by collapsing the extremes of its data as follows:\n",
    "\n",
    "First, we need the quantiles we'll use for trimming.  Let's use 5% and 95%.\n"
   ]
  },
  {
   "cell_type": "code",
   "execution_count": 26,
   "metadata": {
    "collapsed": false,
    "deletable": true,
    "editable": true
   },
   "outputs": [],
   "source": [
    "pct5, pct95 = xyzcust.YTD_SALES_2009[(buyer_status_ordered==\"ACTIVE\") ].quantile([0.05,0.95])\n"
   ]
  },
  {
   "cell_type": "code",
   "execution_count": 27,
   "metadata": {
    "collapsed": false,
    "deletable": true,
    "editable": true
   },
   "outputs": [
    {
     "data": {
      "text/plain": [
       "(42.0, 1798.3499999999967)"
      ]
     },
     "execution_count": 27,
     "metadata": {},
     "output_type": "execute_result"
    }
   ],
   "source": [
    "pct5, pct95"
   ]
  },
  {
   "cell_type": "raw",
   "metadata": {
    "deletable": true,
    "editable": true
   },
   "source": [
    "So the value at the 5th percentile, is 42, and at the 95th is about 1798."
   ]
  },
  {
   "cell_type": "code",
   "execution_count": 28,
   "metadata": {
    "collapsed": false,
    "deletable": true,
    "editable": true
   },
   "outputs": [],
   "source": [
    "winSales=xyzcust.YTD_SALES_2009\t\t# just making a copy here."
   ]
  },
  {
   "cell_type": "code",
   "execution_count": 29,
   "metadata": {
    "collapsed": false,
    "deletable": true,
    "editable": true
   },
   "outputs": [
    {
     "data": {
      "text/plain": [
       "12      2064.0\n",
       "24      1875.0\n",
       "77      1815.0\n",
       "137    14448.0\n",
       "228     5586.0\n",
       "Name: YTD_SALES_2009, dtype: float64"
      ]
     },
     "execution_count": 29,
     "metadata": {},
     "output_type": "execute_result"
    }
   ],
   "source": [
    "winSales[winSales>pct95].head()"
   ]
  },
  {
   "cell_type": "code",
   "execution_count": 30,
   "metadata": {
    "collapsed": false,
    "deletable": true,
    "editable": true
   },
   "outputs": [
    {
     "data": {
      "text/plain": [
       "667"
      ]
     },
     "execution_count": 30,
     "metadata": {},
     "output_type": "execute_result"
    }
   ],
   "source": [
    "len(winSales[winSales>pct95])"
   ]
  },
  {
   "cell_type": "code",
   "execution_count": 31,
   "metadata": {
    "collapsed": false,
    "deletable": true,
    "editable": true
   },
   "outputs": [
    {
     "name": "stderr",
     "output_type": "stream",
     "text": [
      "/Users/Zeeshan/Library/Enthought/Canopy_64bit/User/lib/python2.7/site-packages/ipykernel/__main__.py:1: SettingWithCopyWarning: \n",
      "A value is trying to be set on a copy of a slice from a DataFrame\n",
      "\n",
      "See the caveats in the documentation: http://pandas.pydata.org/pandas-docs/stable/indexing.html#indexing-view-versus-copy\n",
      "  if __name__ == '__main__':\n"
     ]
    }
   ],
   "source": [
    "winSales[winSales>pct95]=pct95  \t\t# collapsing the extreme high values"
   ]
  },
  {
   "cell_type": "code",
   "execution_count": 32,
   "metadata": {
    "collapsed": false,
    "deletable": true,
    "editable": true
   },
   "outputs": [
    {
     "data": {
      "text/plain": [
       "12     1798.35\n",
       "24     1798.35\n",
       "77     1798.35\n",
       "137    1798.35\n",
       "228    1798.35\n",
       "Name: YTD_SALES_2009, dtype: float64"
      ]
     },
     "execution_count": 32,
     "metadata": {},
     "output_type": "execute_result"
    }
   ],
   "source": [
    "#Sanity Test\n",
    "winSales[winSales==pct95].head()"
   ]
  },
  {
   "cell_type": "code",
   "execution_count": 33,
   "metadata": {
    "collapsed": false,
    "deletable": true,
    "editable": true
   },
   "outputs": [
    {
     "data": {
      "text/plain": [
       "0     0.0\n",
       "3     0.0\n",
       "7    33.0\n",
       "8     0.0\n",
       "9     0.0\n",
       "Name: YTD_SALES_2009, dtype: float64"
      ]
     },
     "execution_count": 33,
     "metadata": {},
     "output_type": "execute_result"
    }
   ],
   "source": [
    "winSales[winSales<pct5].head()"
   ]
  },
  {
   "cell_type": "code",
   "execution_count": 34,
   "metadata": {
    "collapsed": false,
    "deletable": true,
    "editable": true
   },
   "outputs": [
    {
     "name": "stderr",
     "output_type": "stream",
     "text": [
      "/Users/Zeeshan/Library/Enthought/Canopy_64bit/User/lib/python2.7/site-packages/ipykernel/__main__.py:1: SettingWithCopyWarning: \n",
      "A value is trying to be set on a copy of a slice from a DataFrame\n",
      "\n",
      "See the caveats in the documentation: http://pandas.pydata.org/pandas-docs/stable/indexing.html#indexing-view-versus-copy\n",
      "  if __name__ == '__main__':\n"
     ]
    }
   ],
   "source": [
    "winSales[winSales<pct5]=pct5 # smooshing up the low values"
   ]
  },
  {
   "cell_type": "code",
   "execution_count": 35,
   "metadata": {
    "collapsed": false,
    "deletable": true,
    "editable": true
   },
   "outputs": [
    {
     "data": {
      "text/plain": [
       "0    42.0\n",
       "3    42.0\n",
       "7    42.0\n",
       "8    42.0\n",
       "9    42.0\n",
       "Name: YTD_SALES_2009, dtype: float64"
      ]
     },
     "execution_count": 35,
     "metadata": {},
     "output_type": "execute_result"
    }
   ],
   "source": [
    "winSales[winSales==pct5].head()"
   ]
  },
  {
   "cell_type": "raw",
   "metadata": {
    "deletable": true,
    "editable": true
   },
   "source": [
    "That's all there is too it, although in this case Winsorizing is a questionable thing to do.  Note that deleting or modifying data should never be done without giving it very careful consideration.\n",
    "\n",
    "One last thing: let's crosstabulate buyerType and CHANNEL_ACQUISITION to see if there's any variation in Type across channels.  But first let's add our heavyCat and buyerType variables as columns to our xyzcust DataFrame.  We'll save this DataFrame for use in a later Practice. \n",
    "\n",
    "You can add a column like this:\n"
   ]
  },
  {
   "cell_type": "code",
   "execution_count": 36,
   "metadata": {
    "collapsed": false,
    "deletable": true,
    "editable": true
   },
   "outputs": [],
   "source": [
    "xyzcust['heavyCat']=heavyCat"
   ]
  },
  {
   "cell_type": "code",
   "execution_count": 37,
   "metadata": {
    "collapsed": false,
    "deletable": true,
    "editable": true
   },
   "outputs": [
    {
     "data": {
      "text/html": [
       "<div>\n",
       "<table border=\"1\" class=\"dataframe\">\n",
       "  <thead>\n",
       "    <tr style=\"text-align: right;\">\n",
       "      <th></th>\n",
       "      <th>ACCTNO</th>\n",
       "      <th>YTD_SALES_2009</th>\n",
       "      <th>YTD_SALES_2009</th>\n",
       "      <th>heavyCat</th>\n",
       "    </tr>\n",
       "  </thead>\n",
       "  <tbody>\n",
       "    <tr>\n",
       "      <th>0</th>\n",
       "      <td>WDQQLLDQL</td>\n",
       "      <td>42.0</td>\n",
       "      <td>42.0</td>\n",
       "      <td>regular</td>\n",
       "    </tr>\n",
       "    <tr>\n",
       "      <th>1</th>\n",
       "      <td>WQWAYHYLA</td>\n",
       "      <td>1263.0</td>\n",
       "      <td>1263.0</td>\n",
       "      <td>heavy</td>\n",
       "    </tr>\n",
       "    <tr>\n",
       "      <th>2</th>\n",
       "      <td>GSHAPLHAW</td>\n",
       "      <td>129.0</td>\n",
       "      <td>129.0</td>\n",
       "      <td>regular</td>\n",
       "    </tr>\n",
       "    <tr>\n",
       "      <th>3</th>\n",
       "      <td>PGGYDYWAD</td>\n",
       "      <td>42.0</td>\n",
       "      <td>42.0</td>\n",
       "      <td>regular</td>\n",
       "    </tr>\n",
       "    <tr>\n",
       "      <th>4</th>\n",
       "      <td>LWPSGPLLS</td>\n",
       "      <td>72.0</td>\n",
       "      <td>72.0</td>\n",
       "      <td>regular</td>\n",
       "    </tr>\n",
       "  </tbody>\n",
       "</table>\n",
       "</div>"
      ],
      "text/plain": [
       "      ACCTNO  YTD_SALES_2009  YTD_SALES_2009 heavyCat\n",
       "0  WDQQLLDQL            42.0            42.0  regular\n",
       "1  WQWAYHYLA          1263.0          1263.0    heavy\n",
       "2  GSHAPLHAW           129.0           129.0  regular\n",
       "3  PGGYDYWAD            42.0            42.0  regular\n",
       "4  LWPSGPLLS            72.0            72.0  regular"
      ]
     },
     "execution_count": 37,
     "metadata": {},
     "output_type": "execute_result"
    }
   ],
   "source": [
    "# Sanity Test\n",
    "xyzcust[['ACCTNO', 'YTD_SALES_2009', 'YTD_SALES_2009', 'heavyCat']].head()\n"
   ]
  },
  {
   "cell_type": "raw",
   "metadata": {
    "deletable": true,
    "editable": true
   },
   "source": [
    "Now add the columns from buyerType to xyzcust.\n",
    "\n",
    "Let's take a look at how CHANNEL_ACQUISITION AND heavyCat might be related:\n"
   ]
  },
  {
   "cell_type": "code",
   "execution_count": 38,
   "metadata": {
    "collapsed": false,
    "deletable": true,
    "editable": true
   },
   "outputs": [
    {
     "data": {
      "text/html": [
       "<div>\n",
       "<table border=\"1\" class=\"dataframe\">\n",
       "  <thead>\n",
       "    <tr style=\"text-align: right;\">\n",
       "      <th>CHANNEL_ACQUISITION</th>\n",
       "      <th>CB</th>\n",
       "      <th>IB</th>\n",
       "      <th>RT</th>\n",
       "      <th>All</th>\n",
       "    </tr>\n",
       "    <tr>\n",
       "      <th>heavyCat</th>\n",
       "      <th></th>\n",
       "      <th></th>\n",
       "      <th></th>\n",
       "      <th></th>\n",
       "    </tr>\n",
       "  </thead>\n",
       "  <tbody>\n",
       "    <tr>\n",
       "      <th>heavy</th>\n",
       "      <td>356</td>\n",
       "      <td>703</td>\n",
       "      <td>3325</td>\n",
       "      <td>4384</td>\n",
       "    </tr>\n",
       "    <tr>\n",
       "      <th>regular</th>\n",
       "      <td>1506</td>\n",
       "      <td>3472</td>\n",
       "      <td>20817</td>\n",
       "      <td>25795</td>\n",
       "    </tr>\n",
       "    <tr>\n",
       "      <th>All</th>\n",
       "      <td>1862</td>\n",
       "      <td>4175</td>\n",
       "      <td>24142</td>\n",
       "      <td>30179</td>\n",
       "    </tr>\n",
       "  </tbody>\n",
       "</table>\n",
       "</div>"
      ],
      "text/plain": [
       "CHANNEL_ACQUISITION    CB    IB     RT    All\n",
       "heavyCat                                     \n",
       "heavy                 356   703   3325   4384\n",
       "regular              1506  3472  20817  25795\n",
       "All                  1862  4175  24142  30179"
      ]
     },
     "execution_count": 38,
     "metadata": {},
     "output_type": "execute_result"
    }
   ],
   "source": [
    "# In case you get an error (it appears it is a bug in pandas.crosstab latest package release) when you execute the following command \n",
    "#\n",
    "# pd.crosstab(xyzcust.heavyCat,xyzcust.CHANNEL_ACQUISITION,margins=True)\n",
    "#\n",
    "# Try the following command instead\n",
    "\n",
    "pd.crosstab(xyzcust.heavyCat.astype('string'),xyzcust.CHANNEL_ACQUISITION.astype('string'),rownames=['heavyCat'], colnames=['CHANNEL_ACQUISITION'], margins=True)\n"
   ]
  },
  {
   "cell_type": "raw",
   "metadata": {
    "deletable": true,
    "editable": true
   },
   "source": [
    "What you should get is a frequency table with row and column margin totals.  It might be more informative with row, column, and cell percentages.  We'll get to this sort of thing in an upcoming Practice.\n",
    "\n",
    "By the way, if you had assigned the result of the above command to a name, what you'd have is your table in a DataFrame that you could use for additional analyses. \n",
    "\n",
    "So for now, save your new version of xyzcust (the one that includes heavyCat and the buyer type indicators) for future use.  The format is your choice.  You can save it to xyz.db, pickle it, or use some other method. It's up to you.  Just be sure you'll be able to find it when you need it in a future Practice.\n"
   ]
  },
  {
   "cell_type": "markdown",
   "metadata": {
    "deletable": true,
    "editable": true
   },
   "source": [
    "# Deliverable : If you were to define the heavies as those who have spent more than at least 51% of all ACTIVEs in 2009, what will be the heavyCut value?"
   ]
  },
  {
   "cell_type": "code",
   "execution_count": 39,
   "metadata": {
    "collapsed": false,
    "deletable": true,
    "editable": true
   },
   "outputs": [
    {
     "data": {
      "text/plain": [
       "252.0"
      ]
     },
     "execution_count": 39,
     "metadata": {},
     "output_type": "execute_result"
    }
   ],
   "source": [
    "xyzcust.YTD_SALES_2009[(buyer_status_ordered==\"ACTIVE\") ].quantile(0.51)"
   ]
  },
  {
   "cell_type": "code",
   "execution_count": null,
   "metadata": {
    "collapsed": true,
    "deletable": true,
    "editable": true
   },
   "outputs": [],
   "source": []
  }
 ],
 "metadata": {
  "kernelspec": {
   "display_name": "Python 2",
   "language": "python",
   "name": "python2"
  },
  "language_info": {
   "codemirror_mode": {
    "name": "ipython",
    "version": 2
   },
   "file_extension": ".py",
   "mimetype": "text/x-python",
   "name": "python",
   "nbconvert_exporter": "python",
   "pygments_lexer": "ipython2",
   "version": "2.7.11"
  }
 },
 "nbformat": 4,
 "nbformat_minor": 0
}
