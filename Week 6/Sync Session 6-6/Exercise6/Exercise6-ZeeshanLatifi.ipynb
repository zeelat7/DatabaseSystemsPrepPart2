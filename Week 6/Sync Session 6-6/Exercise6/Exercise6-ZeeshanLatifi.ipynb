{
 "cells": [
  {
   "cell_type": "markdown",
   "metadata": {
    "deletable": true,
    "editable": true
   },
   "source": [
    "#  Week #6  -  Python Practice"
   ]
  },
  {
   "cell_type": "markdown",
   "metadata": {
    "deletable": true,
    "editable": true
   },
   "source": [
    "### ZIP-fixing, Working With Text Data,  and: Louie becomes Frodo!"
   ]
  },
  {
   "cell_type": "raw",
   "metadata": {
    "deletable": true,
    "editable": true
   },
   "source": [
    "Where we left off in our last Python Practice was fixing up the ZIP4 codes in the custZData data set.  You'll recall that we observed that some ZIP4 code values were less than 4 digits long.  You (probably) saved the various ZIP code Series we were working on, right?  \n",
    "\n",
    "Let's get started.  Crank up your Canopy, and import pandas, numpy, and DataFrame and Series from  pandas.  Then load the ZIP code Series we worked on.  They were ZIP, ZIPlen, ZIP4, and ZIP4len.\n",
    "\n",
    "Did you save these ZIP Series as a DataFrame?  By pickling?  Well, we did.  Here's how we load their DataFrame back into our session, assuming our pickle file is called pickledZIPs.p:\n"
   ]
  },
  {
   "cell_type": "code",
   "execution_count": 56,
   "metadata": {
    "collapsed": false,
    "deletable": true,
    "editable": true
   },
   "outputs": [],
   "source": [
    "import os\n",
    "\n",
    "import cPickle as pickle\n",
    "\n",
    "import pandas as pd  # panda's nickname is pd\n",
    "\n",
    "import numpy as np  # numpy as np\n",
    "\n",
    "import sqlalchemy\n",
    "\n",
    "from pandas import DataFrame, Series     # for convenience\n",
    "from sqlalchemy import create_engine\n",
    "from sqlalchemy import schema\n"
   ]
  },
  {
   "cell_type": "code",
   "execution_count": 57,
   "metadata": {
    "collapsed": false,
    "deletable": true,
    "editable": true
   },
   "outputs": [],
   "source": [
    "ZIPFrame=pd.read_pickle('pickledZIPs.p')"
   ]
  },
  {
   "cell_type": "code",
   "execution_count": 58,
   "metadata": {
    "collapsed": false,
    "deletable": true,
    "editable": true
   },
   "outputs": [
    {
     "data": {
      "text/plain": [
       "(30179, 4)"
      ]
     },
     "execution_count": 58,
     "metadata": {},
     "output_type": "execute_result"
    }
   ],
   "source": [
    "ZIPFrame.shape"
   ]
  },
  {
   "cell_type": "raw",
   "metadata": {
    "deletable": true,
    "editable": true
   },
   "source": [
    "Looks like the DataFrame has the right number of rows and number of columns.  The columns are:"
   ]
  },
  {
   "cell_type": "code",
   "execution_count": 59,
   "metadata": {
    "collapsed": false,
    "deletable": true,
    "editable": true
   },
   "outputs": [
    {
     "data": {
      "text/html": [
       "<div>\n",
       "<table border=\"1\" class=\"dataframe\">\n",
       "  <thead>\n",
       "    <tr style=\"text-align: right;\">\n",
       "      <th></th>\n",
       "      <th>ZIP</th>\n",
       "      <th>ZIPlen</th>\n",
       "      <th>ZIP4</th>\n",
       "      <th>ZIP4len</th>\n",
       "    </tr>\n",
       "  </thead>\n",
       "  <tbody>\n",
       "    <tr>\n",
       "      <th>0</th>\n",
       "      <td>60084</td>\n",
       "      <td>5</td>\n",
       "      <td>5016</td>\n",
       "      <td>4</td>\n",
       "    </tr>\n",
       "    <tr>\n",
       "      <th>1</th>\n",
       "      <td>60091</td>\n",
       "      <td>5</td>\n",
       "      <td>1750</td>\n",
       "      <td>4</td>\n",
       "    </tr>\n",
       "    <tr>\n",
       "      <th>2</th>\n",
       "      <td>60067</td>\n",
       "      <td>5</td>\n",
       "      <td>900</td>\n",
       "      <td>3</td>\n",
       "    </tr>\n",
       "    <tr>\n",
       "      <th>3</th>\n",
       "      <td>60068</td>\n",
       "      <td>5</td>\n",
       "      <td>3838</td>\n",
       "      <td>4</td>\n",
       "    </tr>\n",
       "    <tr>\n",
       "      <th>4</th>\n",
       "      <td>60090</td>\n",
       "      <td>5</td>\n",
       "      <td>3932</td>\n",
       "      <td>4</td>\n",
       "    </tr>\n",
       "  </tbody>\n",
       "</table>\n",
       "</div>"
      ],
      "text/plain": [
       "     ZIP  ZIPlen  ZIP4  ZIP4len\n",
       "0  60084       5  5016        4\n",
       "1  60091       5  1750        4\n",
       "2  60067       5   900        3\n",
       "3  60068       5  3838        4\n",
       "4  60090       5  3932        4"
      ]
     },
     "execution_count": 59,
     "metadata": {},
     "output_type": "execute_result"
    }
   ],
   "source": [
    "ZIPFrame.columns =  ['ZIP','ZIPlen','ZIP4','ZIP4len']\n",
    "ZIPFrame.head()"
   ]
  },
  {
   "cell_type": "raw",
   "metadata": {
    "deletable": true,
    "editable": true
   },
   "source": [
    "Remember that ZIP and ZIP4 are string, or character, variables.  In the last Session Practice proposed to pad each ZIP4 value that is less than four digits long with zeros.  We considered whether a four zero ZIP4, “0000”, should be a missing value.  There are reasons why an address might not have a ZIP4 code.  One reason is that not all addresses have been assigned one.\n",
    "\n",
    "Let's get ZIP4 out of the DataFrame to make them easier to work with:\n"
   ]
  },
  {
   "cell_type": "code",
   "execution_count": 60,
   "metadata": {
    "collapsed": false,
    "deletable": true,
    "editable": true
   },
   "outputs": [],
   "source": [
    "ZIP4 = ZIPFrame.ZIP4\t\t# Out with you, ZIP4's!\n",
    "ZIP4len = ZIPFrame.ZIP4len"
   ]
  },
  {
   "cell_type": "raw",
   "metadata": {
    "deletable": true,
    "editable": true
   },
   "source": [
    "It turns out that pandas has many methods for examining and manipulating text strings.  One example is the len() method we applied in the last Practice to calculate the number of characters in each customer's zip code.  pandas doesn't have a method for padding strings with zeros, but it does have one for padding them with spaces. So,"
   ]
  },
  {
   "cell_type": "code",
   "execution_count": 61,
   "metadata": {
    "collapsed": false,
    "deletable": true,
    "editable": true
   },
   "outputs": [
    {
     "data": {
      "text/plain": [
       "pandas.core.series.Series"
      ]
     },
     "execution_count": 61,
     "metadata": {},
     "output_type": "execute_result"
    }
   ],
   "source": [
    "ZIP4pad=ZIP4.str.pad(4)\n",
    "type(ZIP4pad)"
   ]
  },
  {
   "cell_type": "raw",
   "metadata": {
    "deletable": true,
    "editable": true
   },
   "source": [
    "which should make all ZIP4's four characters long, including spaces:"
   ]
  },
  {
   "cell_type": "code",
   "execution_count": 62,
   "metadata": {
    "collapsed": false,
    "deletable": true,
    "editable": true
   },
   "outputs": [
    {
     "data": {
      "text/plain": [
       "4    30179\n",
       "Name: ZIP4, dtype: int64"
      ]
     },
     "execution_count": 62,
     "metadata": {},
     "output_type": "execute_result"
    }
   ],
   "source": [
    "ZIP4pad.str.len().value_counts()"
   ]
  },
  {
   "cell_type": "raw",
   "metadata": {
    "deletable": true,
    "editable": true
   },
   "source": [
    "Do all strings in ZIP4 now have a length of four?\n",
    "\n",
    "We “left-padded” strings with spaces if their length was less than four.  Now let's change those spaces to zeros:\n"
   ]
  },
  {
   "cell_type": "code",
   "execution_count": 63,
   "metadata": {
    "collapsed": false,
    "deletable": true,
    "editable": true
   },
   "outputs": [
    {
     "data": {
      "text/plain": [
       "pandas.core.series.Series"
      ]
     },
     "execution_count": 63,
     "metadata": {},
     "output_type": "execute_result"
    }
   ],
   "source": [
    "newZIP4=ZIP4pad.str.replace(' ','0')\t# replace all spaces with zero\n",
    "type(newZIP4)"
   ]
  },
  {
   "cell_type": "code",
   "execution_count": 64,
   "metadata": {
    "collapsed": false,
    "deletable": true,
    "editable": true
   },
   "outputs": [
    {
     "data": {
      "text/plain": [
       "0    5016\n",
       "1    1750\n",
       "2    0900\n",
       "3    3838\n",
       "4    3932\n",
       "Name: ZIP4, dtype: object"
      ]
     },
     "execution_count": 64,
     "metadata": {},
     "output_type": "execute_result"
    }
   ],
   "source": [
    "newZIP4.head()"
   ]
  },
  {
   "cell_type": "raw",
   "metadata": {
    "deletable": true,
    "editable": true
   },
   "source": [
    "Pretty easy, right?  Let's take a look at some of those we've padded with zero, those with lengths of two, initially:"
   ]
  },
  {
   "cell_type": "code",
   "execution_count": 65,
   "metadata": {
    "collapsed": false,
    "deletable": true,
    "editable": true
   },
   "outputs": [
    {
     "data": {
      "text/plain": [
       "51      0024\n",
       "1633    0020\n",
       "2567    0045\n",
       "2803    0068\n",
       "4219    0066\n",
       "Name: ZIP4, dtype: object"
      ]
     },
     "execution_count": 65,
     "metadata": {},
     "output_type": "execute_result"
    }
   ],
   "source": [
    "newZIP4[ZIP4len==2].head(5)"
   ]
  },
  {
   "cell_type": "raw",
   "metadata": {
    "deletable": true,
    "editable": true
   },
   "source": [
    "There are some with all zeros, e.g."
   ]
  },
  {
   "cell_type": "code",
   "execution_count": 66,
   "metadata": {
    "collapsed": false,
    "deletable": true,
    "editable": true
   },
   "outputs": [
    {
     "data": {
      "text/plain": [
       "9     0000\n",
       "11    0000\n",
       "32    0000\n",
       "41    0000\n",
       "47    0000\n",
       "Name: ZIP4, dtype: object"
      ]
     },
     "execution_count": 66,
     "metadata": {},
     "output_type": "execute_result"
    }
   ],
   "source": [
    "newZIP4[newZIP4=='0000'].head(5)"
   ]
  },
  {
   "cell_type": "raw",
   "metadata": {
    "deletable": true,
    "editable": true
   },
   "source": [
    "\n",
    "How many of them are there?\n",
    "\n",
    "Want to change these with '000' to missings? \n"
   ]
  },
  {
   "cell_type": "code",
   "execution_count": 67,
   "metadata": {
    "collapsed": false,
    "deletable": true,
    "editable": true
   },
   "outputs": [],
   "source": [
    "newZIP4[newZIP4=='0000']=None"
   ]
  },
  {
   "cell_type": "raw",
   "metadata": {
    "deletable": true,
    "editable": true
   },
   "source": [
    "Did it work?"
   ]
  },
  {
   "cell_type": "code",
   "execution_count": 68,
   "metadata": {
    "collapsed": false,
    "deletable": true,
    "editable": true
   },
   "outputs": [
    {
     "data": {
      "text/plain": [
       "9     None\n",
       "11    None\n",
       "32    None\n",
       "41    None\n",
       "47    None\n",
       "Name: ZIP4, dtype: object"
      ]
     },
     "execution_count": 68,
     "metadata": {},
     "output_type": "execute_result"
    }
   ],
   "source": [
    "newZIP4[newZIP4.isnull()].head(5)"
   ]
  },
  {
   "cell_type": "raw",
   "metadata": {
    "deletable": true,
    "editable": true
   },
   "source": [
    "Since you have some previous experience with Python, you're probably aware of the variety of methods that can be applied to character strings in Python.  There are many such methods. You can use them to change the case of letters in strings (lower to upper, upper to lower, to title, and so on), find characters, replace characters, split strings, format strings, perform logical tests on strings, and do many other things.  The the time available for this Practice doesn't allow us to go into all aspects of strings in any detail, as we need to move on to what are called “regular expressions” (see below) and some additional pandas capabilities.  But you can look into the details of Python strings on you own by reviewing the official documentation that can be found at www.python.org or at other reputable properties.  The textbooks by McKinney and Lubanovic provide good introductions to strings in Python.  And, since everything in Python is an object, Python strings have attributes and methods.  You can explore them by using the <tab> trick, e.g."
   ]
  },
  {
   "cell_type": "code",
   "execution_count": 69,
   "metadata": {
    "collapsed": false,
    "deletable": true,
    "editable": true
   },
   "outputs": [],
   "source": [
    "Boo='boo'"
   ]
  },
  {
   "cell_type": "code",
   "execution_count": 70,
   "metadata": {
    "collapsed": false,
    "deletable": true,
    "editable": true
   },
   "outputs": [],
   "source": [
    "# Boo.<tab>"
   ]
  },
  {
   "cell_type": "raw",
   "metadata": {
    "deletable": true,
    "editable": true
   },
   "source": [
    "which will show you a number of string methods.  String methods, like the regular expressions that follow below, are best understood by trying them out, by “fiddling” with them.\n",
    "\n",
    "Let's now consider a Python package called re.  “re” is for “regular expression,” and a regular expression, AKA a “regex,” is a pattern that can be matched against data for searching,  replacing, and filtering.  Most all modern computer languages support the use of regexes.  They are very often used in the processing of text data.  How regexes are expressed varies a little across languages.  And, regexes are a little like a language of their own.  They can seem arcane and complex:\n",
    "\n",
    "\"Some people, when confronted with a problem, think \"I know, I'll use regular expressions.\" Now they have two problems.\"\n",
    "\n",
    "-Jamie Zawinski, 1997\n",
    "\n",
    "\n",
    "But they can be very useful in many contexts.  They are relatively easy to use in Python, and pandas has some regex methods.\n",
    "\n",
    "In what follows we explore regexes as they can be used in Python. Go ahead and import the re package into your Canopy session so we can try it out.\n",
    "\n",
    "Let's jump right in.  First, we need some text to tinker with:\n"
   ]
  },
  {
   "cell_type": "code",
   "execution_count": 71,
   "metadata": {
    "collapsed": false,
    "deletable": true,
    "editable": true
   },
   "outputs": [],
   "source": [
    "IMKool=\"I was too cool for school, \\n but I signed up to do an MSPA annd now I'm no fool.So cool, \\nso cool, so cool.\\n\"\n"
   ]
  },
  {
   "cell_type": "code",
   "execution_count": 72,
   "metadata": {
    "collapsed": false,
    "deletable": true,
    "editable": true
   },
   "outputs": [
    {
     "data": {
      "text/plain": [
       "\"I was too cool for school, \\n but I signed up to do an MSPA annd now I'm no fool.So cool, \\nso cool, so cool.\\n\""
      ]
     },
     "execution_count": 72,
     "metadata": {},
     "output_type": "execute_result"
    }
   ],
   "source": [
    "IMKool"
   ]
  },
  {
   "cell_type": "raw",
   "metadata": {
    "deletable": true,
    "editable": true
   },
   "source": [
    "The \\n's are newline characters.  They'll work if you do print(IMKool).\n",
    "\n",
    "We can use a regex to see if there's a particular word, like “cool,” in IMKool:\n"
   ]
  },
  {
   "cell_type": "code",
   "execution_count": 73,
   "metadata": {
    "collapsed": false,
    "deletable": true,
    "editable": true
   },
   "outputs": [
    {
     "data": {
      "text/plain": [
       "['cool', 'cool', 'cool', 'cool']"
      ]
     },
     "execution_count": 73,
     "metadata": {},
     "output_type": "execute_result"
    }
   ],
   "source": [
    "import re\n",
    "re.findall('cool', IMKool)\t# 'cool' is the “regex”, the search pattern, to find in IMKool"
   ]
  },
  {
   "cell_type": "raw",
   "metadata": {
    "deletable": true,
    "editable": true
   },
   "source": [
    "A list of the “cool's” found is returned.  The findall method of re finds all occurrences of the regex 'cool.'  \n",
    "\n",
    "Try to find either “cool,” “school,” or “fool”:\n"
   ]
  },
  {
   "cell_type": "code",
   "execution_count": 74,
   "metadata": {
    "collapsed": false,
    "deletable": true,
    "editable": true
   },
   "outputs": [
    {
     "data": {
      "text/plain": [
       "['cool', 'school', 'fool', 'cool', 'cool', 'cool']"
      ]
     },
     "execution_count": 74,
     "metadata": {},
     "output_type": "execute_result"
    }
   ],
   "source": [
    "re.findall('cool|school|fool',IMKool)"
   ]
  },
  {
   "cell_type": "raw",
   "metadata": {
    "deletable": true,
    "editable": true
   },
   "source": [
    "The “|” means “or.”\n",
    "\n",
    "Try finding words in a string of your own.\n",
    "\n",
    "The methods that re has for finding patterns in text do different things.  The re methods match() and search() return “match objects” (which have methods: this is Python), and finditer() returns an iterator that can be used for processing in loops.  The re methods findall(), split(), and sub() return strings or a lists of strings.  split() can divide up a string into list elements by using a regex.  sub() does replacements by substituting a string for what matches a regex.  subn() returns in tuples new strings after replacements along with a count of the number of replacements made in them.  When using the methods match(), search(), findall(), and finditer() you can provide optional start and end arguments in numbers of characters ttelling them where in a string to begin and end their processing.\n",
    "  \n",
    "Here's a simple example of using split().  Try:\n"
   ]
  },
  {
   "cell_type": "code",
   "execution_count": 75,
   "metadata": {
    "collapsed": false,
    "deletable": true,
    "editable": true
   },
   "outputs": [
    {
     "data": {
      "text/plain": [
       "['I',\n",
       " 'was',\n",
       " 'too',\n",
       " 'cool',\n",
       " 'for',\n",
       " 'school,',\n",
       " '\\n',\n",
       " 'but',\n",
       " 'I',\n",
       " 'signed',\n",
       " 'up',\n",
       " 'to',\n",
       " 'do',\n",
       " 'an',\n",
       " 'MSPA',\n",
       " 'annd',\n",
       " 'now',\n",
       " \"I'm\",\n",
       " 'no',\n",
       " 'fool.So',\n",
       " 'cool,',\n",
       " '\\nso',\n",
       " 'cool,',\n",
       " 'so',\n",
       " 'cool.\\n']"
      ]
     },
     "execution_count": 75,
     "metadata": {},
     "output_type": "execute_result"
    }
   ],
   "source": [
    "re.split(' ',IMKool)"
   ]
  },
  {
   "cell_type": "raw",
   "metadata": {
    "deletable": true,
    "editable": true
   },
   "source": [
    "That's a space between the single quotes. Doubles would also work,\n",
    "\n",
    " and:\n"
   ]
  },
  {
   "cell_type": "code",
   "execution_count": 76,
   "metadata": {
    "collapsed": false,
    "deletable": true,
    "editable": true
   },
   "outputs": [
    {
     "data": {
      "text/plain": [
       "<_sre.SRE_Match at 0x10ff9b370>"
      ]
     },
     "execution_count": 76,
     "metadata": {},
     "output_type": "execute_result"
    }
   ],
   "source": [
    "re.search('school',IMKool)"
   ]
  },
  {
   "cell_type": "raw",
   "metadata": {
    "deletable": true,
    "editable": true
   },
   "source": [
    "returns something, an object, but"
   ]
  },
  {
   "cell_type": "code",
   "execution_count": 77,
   "metadata": {
    "collapsed": false,
    "deletable": true,
    "editable": true
   },
   "outputs": [],
   "source": [
    "re.match('school', IMKool)"
   ]
  },
  {
   "cell_type": "raw",
   "metadata": {
    "deletable": true,
    "editable": true
   },
   "source": [
    "give you nothing.  The match() method returns nothing if it doesn't find its regex at the beginning of its source, its input string.  Regexes are often compiled into bytecode if they are going to be used a lot, like by applying them to many sources:"
   ]
  },
  {
   "cell_type": "code",
   "execution_count": 78,
   "metadata": {
    "collapsed": false,
    "deletable": true,
    "editable": true
   },
   "outputs": [],
   "source": [
    "schoolPat=re.compile('school')"
   ]
  },
  {
   "cell_type": "code",
   "execution_count": 79,
   "metadata": {
    "collapsed": false,
    "deletable": true,
    "editable": true
   },
   "outputs": [
    {
     "data": {
      "text/plain": [
       "['school']"
      ]
     },
     "execution_count": 79,
     "metadata": {},
     "output_type": "execute_result"
    }
   ],
   "source": [
    "re.findall(schoolPat,IMKool)"
   ]
  },
  {
   "cell_type": "raw",
   "metadata": {
    "deletable": true,
    "editable": true
   },
   "source": [
    "Now try:"
   ]
  },
  {
   "cell_type": "code",
   "execution_count": 80,
   "metadata": {
    "collapsed": false,
    "deletable": true,
    "editable": true
   },
   "outputs": [],
   "source": [
    "schoolPat=re.compile('school')"
   ]
  },
  {
   "cell_type": "code",
   "execution_count": 81,
   "metadata": {
    "collapsed": false,
    "deletable": true,
    "editable": true
   },
   "outputs": [],
   "source": [
    "re.match(schoolPat, IMKool)"
   ]
  },
  {
   "cell_type": "raw",
   "metadata": {
    "deletable": true,
    "editable": true
   },
   "source": [
    "returns, nothing, but:"
   ]
  },
  {
   "cell_type": "code",
   "execution_count": 82,
   "metadata": {
    "collapsed": false,
    "deletable": true,
    "editable": true
   },
   "outputs": [],
   "source": [
    "schoolPat=re.compile('.*school')\t\t# note the .* before school."
   ]
  },
  {
   "cell_type": "code",
   "execution_count": 83,
   "metadata": {
    "collapsed": false,
    "deletable": true,
    "editable": true
   },
   "outputs": [],
   "source": [
    "obj=re.match(schoolPat,IMKool)"
   ]
  },
  {
   "cell_type": "raw",
   "metadata": {
    "deletable": true,
    "editable": true
   },
   "source": [
    "does return an object.  Try the tab trick"
   ]
  },
  {
   "cell_type": "code",
   "execution_count": 84,
   "metadata": {
    "collapsed": false,
    "deletable": true,
    "editable": true
   },
   "outputs": [],
   "source": [
    "# obj.<tab>"
   ]
  },
  {
   "cell_type": "raw",
   "metadata": {
    "deletable": true,
    "editable": true
   },
   "source": [
    "to see this object's attributes.  One of them is the string that was matched:"
   ]
  },
  {
   "cell_type": "code",
   "execution_count": 85,
   "metadata": {
    "collapsed": false,
    "deletable": true,
    "editable": true
   },
   "outputs": [
    {
     "data": {
      "text/plain": [
       "'I was too cool for school'"
      ]
     },
     "execution_count": 85,
     "metadata": {},
     "output_type": "execute_result"
    }
   ],
   "source": [
    "obj.group()"
   ]
  },
  {
   "cell_type": "raw",
   "metadata": {
    "deletable": true,
    "editable": true
   },
   "source": [
    "Regex's can include two kinds of characters.  One kind is literal characters, like the “school” characters in the pattern '.*school”.  The second kind is metacharacters.   The characters “.” (dot) and “*” (asterisk) in this pattern are metacharacters.  Metacharacters can be used to both generalize and constrain pattern matches.  The dot (.) in this pattern means “any character,” and the * means any number of the proceeding, so the two together mean any number of any character before the string “school.” That's why what was returned by obj.group() was the entire string of characters up to the first occurrence of 'school.'  The entire string matched the regex.\n",
    "\n",
    "Several metacharacters can be used in a regex.  They include:\n",
    "\n",
    "•\t. (dot) matches any single character except \\n\n",
    "•\t? none or one of the preceding\n",
    "•\t* none, or one or more of the proceeding\n",
    "•\t+ one or more of the preceding\n",
    "•\t{n,m} between n and m of the preceding\n",
    "•\t\\w an alphanumeric character\n",
    "•\t\\W a non-alphanumeric character\n",
    "•\t\\d a single digit\n",
    "•\t\\D a single non-digit\n",
    "•\t\\s a single whitespace character\n",
    "•\t\\S a single non-whitespace character\n",
    "•\t\\b a boundary between a \\w and a \\W, or a \\W and a \\w\n",
    "•\t\\B the opposite of \\b: a non-boundary between \\w and \\W, or \\W and \\w\n",
    "•\t^ matches the beginning of a line\n",
    "•\t$ the end of a line\n",
    "•\t\\A the beginning of the input source\n",
    "•\t\\Z the end of the input\n",
    "\n",
    "Let's try a couple of these.  How about finding four letter words?\n"
   ]
  },
  {
   "cell_type": "code",
   "execution_count": 86,
   "metadata": {
    "collapsed": false,
    "deletable": true,
    "editable": true
   },
   "outputs": [
    {
     "data": {
      "text/plain": [
       "['cool', 'scho', 'sign', 'MSPA', 'annd', 'fool', 'cool', 'cool', 'cool']"
      ]
     },
     "execution_count": 86,
     "metadata": {},
     "output_type": "execute_result"
    }
   ],
   "source": [
    "re.findall('\\w{4}',IMKool)"
   ]
  },
  {
   "cell_type": "code",
   "execution_count": 87,
   "metadata": {
    "collapsed": false,
    "deletable": true,
    "editable": true
   },
   "outputs": [
    {
     "data": {
      "text/plain": [
       "['s ', 'sc', 'si', 'so', 'so']"
      ]
     },
     "execution_count": 87,
     "metadata": {},
     "output_type": "execute_result"
    }
   ],
   "source": [
    "re.findall('s.{,1}',IMKool)\t# “s” followed by no more than one character"
   ]
  },
  {
   "cell_type": "raw",
   "metadata": {
    "deletable": true,
    "editable": true
   },
   "source": [
    "Get the first whitespace character:"
   ]
  },
  {
   "cell_type": "code",
   "execution_count": 88,
   "metadata": {
    "collapsed": false,
    "deletable": true,
    "editable": true
   },
   "outputs": [
    {
     "data": {
      "text/plain": [
       "' '"
      ]
     },
     "execution_count": 88,
     "metadata": {},
     "output_type": "execute_result"
    }
   ],
   "source": [
    "re.search('\\s',IMKool).group()"
   ]
  },
  {
   "cell_type": "raw",
   "metadata": {
    "deletable": true,
    "editable": true
   },
   "source": [
    "What does this return?\n",
    "\n",
    "That group() method there at the end of the above re statement returns the first of results for what can be a number of grouped pattern “hits.”  Grouped patterns are sub-patterns inside a main regex.  They are represented by enclosing sub-patterns in parentheses, for example, compare:\n"
   ]
  },
  {
   "cell_type": "code",
   "execution_count": 89,
   "metadata": {
    "collapsed": false,
    "deletable": true,
    "editable": true
   },
   "outputs": [],
   "source": [
    "socMatch=re.findall('\\sso\\sc',IMKool)"
   ]
  },
  {
   "cell_type": "raw",
   "metadata": {
    "deletable": true,
    "editable": true
   },
   "source": [
    "to"
   ]
  },
  {
   "cell_type": "code",
   "execution_count": 90,
   "metadata": {
    "collapsed": false,
    "deletable": true,
    "editable": true
   },
   "outputs": [],
   "source": [
    "gsocMatch=re.findall('\\s(so)\\sc',IMKool)"
   ]
  },
  {
   "cell_type": "raw",
   "metadata": {
    "deletable": true,
    "editable": true
   },
   "source": [
    "See the difference?  Remember that .findall() returns a list.  In the second case, only elements with the pair 'so' that are followed by a space and the letter c are returned.  Note that in either case, only “so's” were found.  “So” wasn't.  Why not?\n",
    "\n",
    "We could match both “so” and “So” by using what's called a character class or set.  A set consists of items that are to be considered equivalent.  Sets are demarked by square brackets, [ and ], that enclose them.  For example.\n"
   ]
  },
  {
   "cell_type": "code",
   "execution_count": 91,
   "metadata": {
    "collapsed": false,
    "deletable": true,
    "editable": true
   },
   "outputs": [],
   "source": [
    "soSocMatch=re.findall('[sS]o\\sc', IMKool)"
   ]
  },
  {
   "cell_type": "raw",
   "metadata": {
    "deletable": true,
    "editable": true
   },
   "source": [
    "finds strings that are either 'so c' or 'So c'.   There's a single space between the o and the c in these because of the \\s, the single whitespace metacharacter.  You may note that some metacharacters represent a predefined class.  \\w, for example, stands for [a-zA-z0-9_].\n",
    "\n",
    "You can “negate” a set by using the caret character, the ^:\n"
   ]
  },
  {
   "cell_type": "code",
   "execution_count": 92,
   "metadata": {
    "collapsed": false,
    "deletable": true,
    "editable": true
   },
   "outputs": [
    {
     "data": {
      "text/plain": [
       "['a', 'b', 'a', 'b', 'a']"
      ]
     },
     "execution_count": 92,
     "metadata": {},
     "output_type": "execute_result"
    }
   ],
   "source": [
    "re.findall('[ab]','ababac')"
   ]
  },
  {
   "cell_type": "raw",
   "metadata": {
    "deletable": true,
    "editable": true
   },
   "source": [
    "will return a list of a's and b's.  "
   ]
  },
  {
   "cell_type": "code",
   "execution_count": 93,
   "metadata": {
    "collapsed": false,
    "deletable": true,
    "editable": true
   },
   "outputs": [
    {
     "data": {
      "text/plain": [
       "['c']"
      ]
     },
     "execution_count": 93,
     "metadata": {},
     "output_type": "execute_result"
    }
   ],
   "source": [
    "re.findall('[^ab]','ababac')"
   ]
  },
  {
   "cell_type": "raw",
   "metadata": {
    "deletable": true,
    "editable": true
   },
   "source": [
    "will return things other than a or b. ^ inside set brackets negates.  Outside it means the beginning of the line.\n",
    "\n",
    "So far we've seen the delimiters { }, ( ) and [ ].  To search for a pattern that includes these as literal characters, they need to be “escaped” in a regex, which is done by preceding them by a backslash, a \\.   Backslashes need to be escaped to make them literal, too, as do *, . (dot), ^, |, +,  and ?.  Twelve characters need to be escaped,  altogether.\n",
    "\n",
    "Some of the metacharacters conflict with their meanings in Python, so it's common practice to use raw string notation when specifying a regex pattern, like:\n",
    "\n",
    "re.compile(r”\\bSo”)\n",
    "\n",
    "where the small case “r” indicates that the patter is a raw string.  Otherwise, in this example, Python would interpret the \\b as a backspace.  \n",
    "\n",
    "How would you search for a backspace?\n",
    "\n",
    "A few other regex delimiters that can be useful are the following.  “a” and “b” are characters:\n",
    "\n",
    "•\ta (?=b)  \t\tmeans match a if it is followed by b\n",
    "•\ta (?1 b) \t\tmatch a if not followed by b\n",
    "•\t(?<= a) b \t\tmatch b if preceeded by a\n",
    "•\t(?<! a) b \t\tmatch b if not preceed by a\n",
    "\n",
    "Now we're going to try out some of pandas' vectorized string processing methods.  A “vectorized” method is one that can be applied through the values of a vector, like what's in a pandas Series or in the column of a DataFrame.\n",
    "\n",
    "It's time to get Louie back.  Find that file louielouie.txt you used in Session 2, and put it in your default Canopy working directory.  Be sure you have pandas and its methods DataFrame and Series imported.  Now, let's get Louie.  We're going to read the lines from louielouie.txt in, line by line, into a Dataframe:\n",
    "th their meanings in Python, so it's common practice to use raw string notation when specifying a regex pattern, like:\n"
   ]
  },
  {
   "cell_type": "code",
   "execution_count": 94,
   "metadata": {
    "collapsed": false,
    "deletable": true,
    "editable": true
   },
   "outputs": [],
   "source": [
    "louieDF=pd.read_table('louielouie.txt',header=None)\n"
   ]
  },
  {
   "cell_type": "raw",
   "metadata": {
    "deletable": true,
    "editable": true
   },
   "source": [
    "Well, that was easy, wasn't it?  The optional header=None argument indicates that the first record isn't a header record with variable or column names in it.\n",
    "\n",
    "You could use read_table or read_csv for this.  Both have a plethora of methods and options that make them very flexible and effective.  Check them out using the IPython documentation trick:\n"
   ]
  },
  {
   "cell_type": "code",
   "execution_count": 95,
   "metadata": {
    "collapsed": false,
    "deletable": true,
    "editable": true
   },
   "outputs": [],
   "source": [
    "# pd.read_<tab>"
   ]
  },
  {
   "cell_type": "raw",
   "metadata": {
    "deletable": true,
    "editable": true
   },
   "source": [
    "So now we have Louie in a DataFrame, line by line.   It has a single column, and the rows are the lines of the song.  What's the current name of the column?  How about changing it to 'Louie?'"
   ]
  },
  {
   "cell_type": "code",
   "execution_count": 96,
   "metadata": {
    "collapsed": false,
    "deletable": true,
    "editable": true
   },
   "outputs": [],
   "source": [
    "louieDF.columns=['Louie']"
   ]
  },
  {
   "cell_type": "raw",
   "metadata": {
    "deletable": true,
    "editable": true
   },
   "source": [
    "Since there's only one column in louieDF, we can extract it to a Series to make working with it a little simpler:"
   ]
  },
  {
   "cell_type": "code",
   "execution_count": 97,
   "metadata": {
    "collapsed": false,
    "deletable": true,
    "editable": true
   },
   "outputs": [],
   "source": [
    "louie=louieDF.Louie"
   ]
  },
  {
   "cell_type": "raw",
   "metadata": {
    "deletable": true,
    "editable": true
   },
   "source": [
    "Are you tired of the name Louie, yet?  How about if we change it to another name throughout the song?  A two syllable name would work given the melody.  You can pick your own, but here we're going to use Frodo.  We'll replace Louie in every line with Frodo using a vectorized string replacement method:"
   ]
  },
  {
   "cell_type": "code",
   "execution_count": 98,
   "metadata": {
    "collapsed": false,
    "deletable": true,
    "editable": true
   },
   "outputs": [],
   "source": [
    "frodo = louie.str.replace('Louie','Frodo')"
   ]
  },
  {
   "cell_type": "raw",
   "metadata": {
    "deletable": true,
    "editable": true
   },
   "source": [
    "Are all the Louies now Frodos?  You could look, of course, but if you had a lot of lines, looking would be inconvenient.  You can, however, search for Louie:"
   ]
  },
  {
   "cell_type": "code",
   "execution_count": 99,
   "metadata": {
    "collapsed": false,
    "deletable": true,
    "editable": true
   },
   "outputs": [],
   "source": [
    "louieMatches=frodo.str.match('Louie')"
   ]
  },
  {
   "cell_type": "code",
   "execution_count": 100,
   "metadata": {
    "collapsed": false,
    "deletable": true,
    "editable": true
   },
   "outputs": [
    {
     "data": {
      "text/plain": [
       "0"
      ]
     },
     "execution_count": 100,
     "metadata": {},
     "output_type": "execute_result"
    }
   ],
   "source": [
    "louieMatches.sum()"
   ]
  },
  {
   "cell_type": "raw",
   "metadata": {
    "deletable": true,
    "editable": true
   },
   "source": [
    "frodo.str.match() on the right hand side of In [38] will return a boolean (True/False) vector. What do you think the value of louieMatches.sum() will be if there are no Louie's in frodo?\n",
    "\n",
    "If you happen to type 'frodo' on the command line, it may look like all the lines are right justified, i.e. that there are varying numbers of spaces on the left of each line.  Are space characters really there?  If so, what would you expect the lengths of the strings would be?\n"
   ]
  },
  {
   "cell_type": "raw",
   "metadata": {
    "deletable": true,
    "editable": true
   },
   "source": [
    "If you happen to type 'frodo' on the command line, it may look like all the lines are right justified, i.e. that there are varying numbers of spaces on the left of each line.  Are space characters really there?  If so, what would you expect the lengths of the strings would be"
   ]
  },
  {
   "cell_type": "code",
   "execution_count": 101,
   "metadata": {
    "collapsed": false,
    "deletable": true,
    "editable": true
   },
   "outputs": [
    {
     "data": {
      "text/plain": [
       "38    1\n",
       "36    1\n",
       "33    2\n",
       "32    1\n",
       "31    2\n",
       "29    2\n",
       "28    1\n",
       "27    2\n",
       "25    2\n",
       "22    1\n",
       "21    1\n",
       "20    7\n",
       "18    5\n",
       "11    6\n",
       "10    1\n",
       "Name: Louie, dtype: int64"
      ]
     },
     "execution_count": 101,
     "metadata": {},
     "output_type": "execute_result"
    }
   ],
   "source": [
    "frodo.str.len().value_counts().sort_index(ascending=False)"
   ]
  },
  {
   "cell_type": "raw",
   "metadata": {
    "deletable": true,
    "editable": true
   },
   "source": [
    "The above calculates the number of characters in each record of frodo, including spaces and punctuation.  It then counts up the number of different lengths (this is the value_counts() part), and then it sorts the results in descending order of length.  The index for this Series is string lengths.\n",
    "\n",
    "You can use a regex with pandas' various text methods.  For example, suppose we wanted to get string lengths based only on letters and numbers?\n"
   ]
  },
  {
   "cell_type": "code",
   "execution_count": 102,
   "metadata": {
    "collapsed": false,
    "deletable": true,
    "editable": true
   },
   "outputs": [
    {
     "data": {
      "text/plain": [
       "0     14\n",
       "1      9\n",
       "2     14\n",
       "3     16\n",
       "4      9\n",
       "5     24\n",
       "6     22\n",
       "7     25\n",
       "8     22\n",
       "9     16\n",
       "10    13\n",
       "11    16\n",
       "12    14\n",
       "13    29\n",
       "14    21\n",
       "15    25\n",
       "16    22\n",
       "17    14\n",
       "18     9\n",
       "19    14\n",
       "20    16\n",
       "21     9\n",
       "22    26\n",
       "23    22\n",
       "24    23\n",
       "25    20\n",
       "26    26\n",
       "27    14\n",
       "28     9\n",
       "29    14\n",
       "30    16\n",
       "31     9\n",
       "32    17\n",
       "33    24\n",
       "34     6\n",
       "Name: Louie, dtype: int64"
      ]
     },
     "execution_count": 102,
     "metadata": {},
     "output_type": "execute_result"
    }
   ],
   "source": [
    "frodo.str.replace(r'[^a-zA-Z0-9]','').str.len()\t# '' is a pair of single quotes"
   ]
  },
  {
   "cell_type": "raw",
   "metadata": {
    "deletable": true,
    "editable": true
   },
   "source": [
    "The regex is the r'[^a-zA-Z0-9]' which stands for all characters that are not a lower or upper case letter or a digit. Remember what the caret ^ inside set brackets does?\n",
    "\n",
    "How many times does Frodo's name now show up in the lyrics?\n"
   ]
  },
  {
   "cell_type": "code",
   "execution_count": 103,
   "metadata": {
    "collapsed": false,
    "deletable": true,
    "editable": true
   },
   "outputs": [
    {
     "data": {
      "text/plain": [
       "16"
      ]
     },
     "execution_count": 103,
     "metadata": {},
     "output_type": "execute_result"
    }
   ],
   "source": [
    "frodo.str.findall(r'[fF]rodo').str.len().sum()"
   ]
  },
  {
   "cell_type": "raw",
   "metadata": {
    "deletable": true,
    "editable": true
   },
   "source": [
    "The set or class [fF] will catch frodo with an upper case F or a lower case f.\n",
    "\n",
    "You could have used the .count() method instead of the above:\n"
   ]
  },
  {
   "cell_type": "code",
   "execution_count": 104,
   "metadata": {
    "collapsed": false,
    "deletable": true,
    "editable": true
   },
   "outputs": [
    {
     "data": {
      "text/plain": [
       "16"
      ]
     },
     "execution_count": 104,
     "metadata": {},
     "output_type": "execute_result"
    }
   ],
   "source": [
    "frodo.str.count(r'[fF]rodo').sum()"
   ]
  },
  {
   "cell_type": "raw",
   "metadata": {
    "deletable": true,
    "editable": true
   },
   "source": [
    "Try the following to see what they return:"
   ]
  },
  {
   "cell_type": "code",
   "execution_count": 105,
   "metadata": {
    "collapsed": false,
    "deletable": true,
    "editable": true
   },
   "outputs": [
    {
     "data": {
      "text/plain": [
       "0     [Frodo, Frodo]\n",
       "1                 []\n",
       "2                 []\n",
       "3     [Frodo, Frodo]\n",
       "4                 []\n",
       "5                 []\n",
       "6                 []\n",
       "7                 []\n",
       "8                 []\n",
       "9     [Frodo, Frodo]\n",
       "10                []\n",
       "11    [Frodo, Frodo]\n",
       "12                []\n",
       "13                []\n",
       "14                []\n",
       "15                []\n",
       "16                []\n",
       "17    [Frodo, Frodo]\n",
       "18                []\n",
       "19                []\n",
       "20    [Frodo, Frodo]\n",
       "21                []\n",
       "22                []\n",
       "23                []\n",
       "24                []\n",
       "25                []\n",
       "26                []\n",
       "27    [Frodo, Frodo]\n",
       "28                []\n",
       "29                []\n",
       "30    [Frodo, Frodo]\n",
       "31                []\n",
       "32                []\n",
       "33                []\n",
       "34                []\n",
       "Name: Louie, dtype: object"
      ]
     },
     "execution_count": 105,
     "metadata": {},
     "output_type": "execute_result"
    }
   ],
   "source": [
    "frodo.str.findall(r'[fF]rodo')"
   ]
  },
  {
   "cell_type": "code",
   "execution_count": 106,
   "metadata": {
    "collapsed": false,
    "deletable": true,
    "editable": true
   },
   "outputs": [
    {
     "data": {
      "text/plain": [
       "0     2\n",
       "1     0\n",
       "2     0\n",
       "3     2\n",
       "4     0\n",
       "5     0\n",
       "6     0\n",
       "7     0\n",
       "8     0\n",
       "9     2\n",
       "10    0\n",
       "11    2\n",
       "12    0\n",
       "13    0\n",
       "14    0\n",
       "15    0\n",
       "16    0\n",
       "17    2\n",
       "18    0\n",
       "19    0\n",
       "20    2\n",
       "21    0\n",
       "22    0\n",
       "23    0\n",
       "24    0\n",
       "25    0\n",
       "26    0\n",
       "27    2\n",
       "28    0\n",
       "29    0\n",
       "30    2\n",
       "31    0\n",
       "32    0\n",
       "33    0\n",
       "34    0\n",
       "Name: Louie, dtype: int64"
      ]
     },
     "execution_count": 106,
     "metadata": {},
     "output_type": "execute_result"
    }
   ],
   "source": [
    "frodo.str.count(r'[fF]rodo')"
   ]
  },
  {
   "cell_type": "raw",
   "metadata": {
    "deletable": true,
    "editable": true
   },
   "source": [
    "Arrgh! A singing pirate wants to know that there are Aye Yi's in frodo:"
   ]
  },
  {
   "cell_type": "code",
   "execution_count": 107,
   "metadata": {
    "collapsed": false,
    "deletable": true,
    "editable": true
   },
   "outputs": [
    {
     "data": {
      "text/plain": [
       "2     Aye-yi-yi-yi, I said\n",
       "19    Aye-yi-yi-yi, I said\n",
       "29    Aye-yi-yi-yi, I said\n",
       "Name: Louie, dtype: object"
      ]
     },
     "execution_count": 107,
     "metadata": {},
     "output_type": "execute_result"
    }
   ],
   "source": [
    "frodo[frodo.str.contains(r'[Aa]ye-[Yy]i')]"
   ]
  },
  {
   "cell_type": "raw",
   "metadata": {
    "deletable": true,
    "editable": true
   },
   "source": [
    "Respect the pirate.  How many did you find, Matey?\n",
    "\n",
    "Having fun, yet? \n",
    "\n",
    "pandas has many tools for examining and manipulating text data using its string (str) methods.   Here we've looked at just a few of them using a Series of text strings.  Note that these methods can also be applied to DataFrame columns.\n"
   ]
  },
  {
   "cell_type": "markdown",
   "metadata": {
    "deletable": true,
    "editable": true
   },
   "source": [
    "# Deliverable #1: Print a list of sentences that have the words 'me' or 'Me'"
   ]
  },
  {
   "cell_type": "code",
   "execution_count": 108,
   "metadata": {
    "collapsed": false,
    "deletable": true,
    "editable": true
   },
   "outputs": [
    {
     "data": {
      "text/plain": [
       "1                          Me gotta go\n",
       "4                          Me gotta go\n",
       "5        Fine little girl waits for me\n",
       "8         Never know if I make it home\n",
       "10                  Me gotta go, oh no\n",
       "16       I smell the rose in her hair.\n",
       "18                         Me gotta go\n",
       "21                         Me gotta go\n",
       "24    It won't be long, me see me love\n",
       "28                         Me gotta go\n",
       "31                         Me gotta go\n",
       "Name: Louie, dtype: object"
      ]
     },
     "execution_count": 108,
     "metadata": {},
     "output_type": "execute_result"
    }
   ],
   "source": [
    "frodo[frodo.str.contains(r'[Mm]e')]"
   ]
  },
  {
   "cell_type": "markdown",
   "metadata": {
    "deletable": true,
    "editable": true
   },
   "source": [
    "# Deliverable #2: How many times [mM]e occured in frodo?"
   ]
  },
  {
   "cell_type": "code",
   "execution_count": 109,
   "metadata": {
    "collapsed": false,
    "deletable": true,
    "editable": true
   },
   "outputs": [
    {
     "data": {
      "text/plain": [
       "12"
      ]
     },
     "execution_count": 109,
     "metadata": {},
     "output_type": "execute_result"
    }
   ],
   "source": [
    "frodo.str.count(r'[Mm]e').sum()"
   ]
  },
  {
   "cell_type": "markdown",
   "metadata": {
    "deletable": true,
    "editable": true
   },
   "source": [
    "# Deliverable #3: Replace every [mM]e occured in frodo by you?"
   ]
  },
  {
   "cell_type": "code",
   "execution_count": 110,
   "metadata": {
    "collapsed": false,
    "deletable": true,
    "editable": true
   },
   "outputs": [
    {
     "data": {
      "text/plain": [
       "0                         Frodo Frodo, oh no\n",
       "1                               you gotta go\n",
       "2                       Aye-yi-yi-yi, I said\n",
       "3                       Frodo Frodo, oh baby\n",
       "4                               you gotta go\n",
       "5             Fine little girl waits for you\n",
       "6                Catch a ship across the sea\n",
       "7            Sail that ship about, all alone\n",
       "8              Never know if I make it hoyou\n",
       "9                      Frodo Frodo, oh oh no\n",
       "10                       you gotta go, oh no\n",
       "11                      Frodo Frodo, oh baby\n",
       "12                        I said we gotta go\n",
       "13      Three nights and days I sail the sea\n",
       "14                 Think of girl, constantly\n",
       "15         On that ship, I dream she's there\n",
       "16            I syoull the rose in her hair.\n",
       "17                        Frodo Frodo, oh no\n",
       "18                              you gotta go\n",
       "19                      Aye-yi-yi-yi, I said\n",
       "20                      Frodo Frodo, oh baby\n",
       "21                              you gotta go\n",
       "22    Okay, let's give it to 'em, right now!\n",
       "23               See Jamaica, the moon above\n",
       "24        It won't be long, you see you love\n",
       "25                 Take her in my arms again\n",
       "26         I tell her I'll never leave again\n",
       "27                        Frodo Frodo, oh no\n",
       "28                              you gotta go\n",
       "29                      Aye-yi-yi-yi, I said\n",
       "30                      Frodo Frodo, oh baby\n",
       "31                              you gotta go\n",
       "32                    I said we gotta go now\n",
       "33           Let's take it on outta here now\n",
       "34                                Let's go!!\n",
       "Name: Louie, dtype: object"
      ]
     },
     "execution_count": 110,
     "metadata": {},
     "output_type": "execute_result"
    }
   ],
   "source": [
    "frodo.str.replace(r'[Mm]e','you')"
   ]
  },
  {
   "cell_type": "code",
   "execution_count": null,
   "metadata": {
    "collapsed": true,
    "deletable": true,
    "editable": true
   },
   "outputs": [],
   "source": []
  }
 ],
 "metadata": {
  "kernelspec": {
   "display_name": "Python 2",
   "language": "python",
   "name": "python2"
  },
  "language_info": {
   "codemirror_mode": {
    "name": "ipython",
    "version": 2
   },
   "file_extension": ".py",
   "mimetype": "text/x-python",
   "name": "python",
   "nbconvert_exporter": "python",
   "pygments_lexer": "ipython2",
   "version": "2.7.11"
  }
 },
 "nbformat": 4,
 "nbformat_minor": 0
}
