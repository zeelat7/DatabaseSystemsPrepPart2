{
 "cells": [
  {
   "cell_type": "code",
   "execution_count": 25,
   "metadata": {
    "collapsed": false,
    "deletable": true,
    "editable": true
   },
   "outputs": [],
   "source": [
    "import json\n",
    "\n",
    "messages = [json.loads(line) for line in open('prep_enron_1000_emails_in_json_file')]"
   ]
  },
  {
   "cell_type": "code",
   "execution_count": 26,
   "metadata": {
    "collapsed": false,
    "deletable": true,
    "editable": true
   },
   "outputs": [
    {
     "data": {
      "text/plain": [
       "[{u'_id': {u'$oid': u'4f16fdbdd1e2d323710589fc'},\n",
       "  u'body': u'Attached is a draft of the Willamette Industries Master Agreement as requested.\\n\\n \\n\\n -----Original Message-----\\nFrom: \\tWilliams, Jason R (Credit)  \\nSent:\\tTuesday, November 06, 2001 7:20 PM\\nTo:\\tPerlingiere, Debra\\nCc:\\tFuller, Dave\\nSubject:\\tWillamette Industries\\n\\nDebra -\\n\\nPlease prepare a draft ENFOLIO per the attached:\\t\\n\\t\\n << File: Willamette Master Firm 11062001.xls >> \\n\\n\\n\\nDave -\\n\\nCan you please contact Debra with the name/email address of the contact at Willamette?\\n\\n\\n\\n\\n\\nThanks to both,\\n\\nJay',\n",
       "  u'headers': {u'Date': u'Thu, 15 Nov 2001 14:01:53 -0800 (PST)',\n",
       "   u'From': u'debra.perlingiere@enron.com',\n",
       "   u'Message-ID': u'<5141907.1075861285797.JavaMail.evans@thyme>',\n",
       "   u'Subject': u'RE: Willamette Industries',\n",
       "   u'To': u'credit <.williams@enron.com>',\n",
       "   u'X-From': u'Perlingiere, Debra </O=ENRON/OU=NA/CN=RECIPIENTS/CN=DPERLIN>',\n",
       "   u'X-To': u'Williams, Jason R (Credit) </O=ENRON/OU=NA/CN=RECIPIENTS/CN=Jwilli10>',\n",
       "   u'X-bcc': u'',\n",
       "   u'X-cc': u'Fuller, Dave </O=ENRON/OU=NA/CN=RECIPIENTS/CN=Dfuller>'},\n",
       "  u'mailbox': u'perlingiere-d',\n",
       "  u'subFolder': u'sent_items'},\n",
       " {u'_id': {u'$oid': u'4f16fdbdd1e2d323710589fd'},\n",
       "  u'body': u' \\n  Thanks for our email.  At the present time, Ena is not putting new GISBs in place.  However, we have a Enfolio Spot Agreement which will achieve the same purpose.  Please see attached.\\n\\n   \\n\\n -----Original Message-----\\nFrom: \\tAnthony Targan <targana@dteenergy.com>@ENRON  \\nSent:\\tThursday, November 15, 2001 8:35 AM\\nTo:\\tdperlin@enron.com\\nSubject:\\tGISB contract with DTE Energy Trading\\n\\nDebra,\\n\\nIt was a pleasure speaking with you yesterday regarding the GISB\\ncontract.\\nI look forward to receipt of your suggested language for the netting and\\ndispute resolution provisions, and your decision on the acceptability of\\nour Sections 10.3, 10.4, and 15 (Confidentiality).\\n\\nPlease do not hesitate to call if we need to discuss this further.\\nUnless you instruct otherwise, we intend to sign the Base Contract\\nfirst, and then FedEx partially executed originals to you for signature.\\n\\nThanks,\\n--Anthony\\n\\n - targana.vcf << File: targana.vcf >> ',\n",
       "  u'headers': {u'Date': u'Thu, 15 Nov 2001 16:06:30 -0800 (PST)',\n",
       "   u'From': u'debra.perlingiere@enron.com',\n",
       "   u'Message-ID': u'<17383820.1075861285819.JavaMail.evans@thyme>',\n",
       "   u'Subject': u'RE: GISB contract with DTE Energy Trading',\n",
       "   u'To': u'targana@dteenergy.com',\n",
       "   u'X-From': u'Perlingiere, Debra </O=ENRON/OU=NA/CN=RECIPIENTS/CN=DPERLIN>',\n",
       "   u'X-To': u\"'Anthony Targan <targana@dteenergy.com>@ENRON'\",\n",
       "   u'X-bcc': u'',\n",
       "   u'X-cc': u''},\n",
       "  u'mailbox': u'perlingiere-d',\n",
       "  u'subFolder': u'sent_items'}]"
      ]
     },
     "execution_count": 26,
     "metadata": {},
     "output_type": "execute_result"
    }
   ],
   "source": [
    "messages[:2]"
   ]
  },
  {
   "cell_type": "code",
   "execution_count": 27,
   "metadata": {
    "collapsed": false,
    "deletable": true,
    "editable": true
   },
   "outputs": [
    {
     "data": {
      "text/plain": [
       "list"
      ]
     },
     "execution_count": 27,
     "metadata": {},
     "output_type": "execute_result"
    }
   ],
   "source": [
    "type(messages)"
   ]
  },
  {
   "cell_type": "code",
   "execution_count": 28,
   "metadata": {
    "collapsed": false,
    "deletable": true,
    "editable": true
   },
   "outputs": [
    {
     "data": {
      "text/plain": [
       "dict"
      ]
     },
     "execution_count": 28,
     "metadata": {},
     "output_type": "execute_result"
    }
   ],
   "source": [
    "type(messages[0])"
   ]
  },
  {
   "cell_type": "code",
   "execution_count": 29,
   "metadata": {
    "collapsed": false,
    "deletable": true,
    "editable": true
   },
   "outputs": [
    {
     "data": {
      "text/plain": [
       "dict"
      ]
     },
     "execution_count": 29,
     "metadata": {},
     "output_type": "execute_result"
    }
   ],
   "source": [
    "type(messages[0]['headers'])"
   ]
  },
  {
   "cell_type": "code",
   "execution_count": 30,
   "metadata": {
    "collapsed": false,
    "deletable": true,
    "editable": true
   },
   "outputs": [
    {
     "data": {
      "text/plain": [
       "unicode"
      ]
     },
     "execution_count": 30,
     "metadata": {},
     "output_type": "execute_result"
    }
   ],
   "source": [
    "type(messages[0]['body'])"
   ]
  },
  {
   "cell_type": "code",
   "execution_count": 31,
   "metadata": {
    "collapsed": false,
    "deletable": true,
    "editable": true
   },
   "outputs": [],
   "source": [
    "\n",
    "list_of_emails_dict_data = []\n",
    "\n",
    "for message in messages:\n",
    "    tmp_my_record_flattened_parent_dict = message\n",
    "    tmp_my_record_flattened_child_dict = message['headers']\n",
    "    del tmp_my_record_flattened_parent_dict['headers']\n",
    "    del tmp_my_record_flattened_parent_dict['_id']\n",
    "    tmp_my_record_flattened_parent_dict.update(tmp_my_record_flattened_child_dict)\n",
    "    list_of_emails_dict_data.append(tmp_my_record_flattened_parent_dict.copy())\n"
   ]
  },
  {
   "cell_type": "code",
   "execution_count": 32,
   "metadata": {
    "collapsed": false,
    "deletable": true,
    "editable": true
   },
   "outputs": [
    {
     "data": {
      "text/plain": [
       "[{u'Date': u'Thu, 15 Nov 2001 14:01:53 -0800 (PST)',\n",
       "  u'From': u'debra.perlingiere@enron.com',\n",
       "  u'Message-ID': u'<5141907.1075861285797.JavaMail.evans@thyme>',\n",
       "  u'Subject': u'RE: Willamette Industries',\n",
       "  u'To': u'credit <.williams@enron.com>',\n",
       "  u'X-From': u'Perlingiere, Debra </O=ENRON/OU=NA/CN=RECIPIENTS/CN=DPERLIN>',\n",
       "  u'X-To': u'Williams, Jason R (Credit) </O=ENRON/OU=NA/CN=RECIPIENTS/CN=Jwilli10>',\n",
       "  u'X-bcc': u'',\n",
       "  u'X-cc': u'Fuller, Dave </O=ENRON/OU=NA/CN=RECIPIENTS/CN=Dfuller>',\n",
       "  u'body': u'Attached is a draft of the Willamette Industries Master Agreement as requested.\\n\\n \\n\\n -----Original Message-----\\nFrom: \\tWilliams, Jason R (Credit)  \\nSent:\\tTuesday, November 06, 2001 7:20 PM\\nTo:\\tPerlingiere, Debra\\nCc:\\tFuller, Dave\\nSubject:\\tWillamette Industries\\n\\nDebra -\\n\\nPlease prepare a draft ENFOLIO per the attached:\\t\\n\\t\\n << File: Willamette Master Firm 11062001.xls >> \\n\\n\\n\\nDave -\\n\\nCan you please contact Debra with the name/email address of the contact at Willamette?\\n\\n\\n\\n\\n\\nThanks to both,\\n\\nJay',\n",
       "  u'mailbox': u'perlingiere-d',\n",
       "  u'subFolder': u'sent_items'},\n",
       " {u'Date': u'Thu, 15 Nov 2001 16:06:30 -0800 (PST)',\n",
       "  u'From': u'debra.perlingiere@enron.com',\n",
       "  u'Message-ID': u'<17383820.1075861285819.JavaMail.evans@thyme>',\n",
       "  u'Subject': u'RE: GISB contract with DTE Energy Trading',\n",
       "  u'To': u'targana@dteenergy.com',\n",
       "  u'X-From': u'Perlingiere, Debra </O=ENRON/OU=NA/CN=RECIPIENTS/CN=DPERLIN>',\n",
       "  u'X-To': u\"'Anthony Targan <targana@dteenergy.com>@ENRON'\",\n",
       "  u'X-bcc': u'',\n",
       "  u'X-cc': u'',\n",
       "  u'body': u' \\n  Thanks for our email.  At the present time, Ena is not putting new GISBs in place.  However, we have a Enfolio Spot Agreement which will achieve the same purpose.  Please see attached.\\n\\n   \\n\\n -----Original Message-----\\nFrom: \\tAnthony Targan <targana@dteenergy.com>@ENRON  \\nSent:\\tThursday, November 15, 2001 8:35 AM\\nTo:\\tdperlin@enron.com\\nSubject:\\tGISB contract with DTE Energy Trading\\n\\nDebra,\\n\\nIt was a pleasure speaking with you yesterday regarding the GISB\\ncontract.\\nI look forward to receipt of your suggested language for the netting and\\ndispute resolution provisions, and your decision on the acceptability of\\nour Sections 10.3, 10.4, and 15 (Confidentiality).\\n\\nPlease do not hesitate to call if we need to discuss this further.\\nUnless you instruct otherwise, we intend to sign the Base Contract\\nfirst, and then FedEx partially executed originals to you for signature.\\n\\nThanks,\\n--Anthony\\n\\n - targana.vcf << File: targana.vcf >> ',\n",
       "  u'mailbox': u'perlingiere-d',\n",
       "  u'subFolder': u'sent_items'}]"
      ]
     },
     "execution_count": 32,
     "metadata": {},
     "output_type": "execute_result"
    }
   ],
   "source": [
    "#Sanity test\n",
    "list_of_emails_dict_data[:2]"
   ]
  },
  {
   "cell_type": "code",
   "execution_count": 33,
   "metadata": {
    "collapsed": false,
    "deletable": true,
    "editable": true
   },
   "outputs": [],
   "source": [
    "from pandas import DataFrame\n",
    "enron_email_df = DataFrame(list_of_emails_dict_data)"
   ]
  },
  {
   "cell_type": "code",
   "execution_count": 34,
   "metadata": {
    "collapsed": false,
    "deletable": true,
    "editable": true
   },
   "outputs": [
    {
     "data": {
      "text/html": [
       "<div>\n",
       "<table border=\"1\" class=\"dataframe\">\n",
       "  <thead>\n",
       "    <tr style=\"text-align: right;\">\n",
       "      <th></th>\n",
       "      <th>Date</th>\n",
       "      <th>From</th>\n",
       "      <th>Message-ID</th>\n",
       "      <th>Subject</th>\n",
       "      <th>To</th>\n",
       "      <th>X-From</th>\n",
       "      <th>X-To</th>\n",
       "      <th>X-bcc</th>\n",
       "      <th>X-cc</th>\n",
       "      <th>body</th>\n",
       "      <th>mailbox</th>\n",
       "      <th>subFolder</th>\n",
       "    </tr>\n",
       "  </thead>\n",
       "  <tbody>\n",
       "    <tr>\n",
       "      <th>0</th>\n",
       "      <td>Thu, 15 Nov 2001 14:01:53 -0800 (PST)</td>\n",
       "      <td>debra.perlingiere@enron.com</td>\n",
       "      <td>&lt;5141907.1075861285797.JavaMail.evans@thyme&gt;</td>\n",
       "      <td>RE: Willamette Industries</td>\n",
       "      <td>credit &lt;.williams@enron.com&gt;</td>\n",
       "      <td>Perlingiere, Debra &lt;/O=ENRON/OU=NA/CN=RECIPIEN...</td>\n",
       "      <td>Williams, Jason R (Credit) &lt;/O=ENRON/OU=NA/CN=...</td>\n",
       "      <td></td>\n",
       "      <td>Fuller, Dave &lt;/O=ENRON/OU=NA/CN=RECIPIENTS/CN=...</td>\n",
       "      <td>Attached is a draft of the Willamette Industri...</td>\n",
       "      <td>perlingiere-d</td>\n",
       "      <td>sent_items</td>\n",
       "    </tr>\n",
       "    <tr>\n",
       "      <th>1</th>\n",
       "      <td>Thu, 15 Nov 2001 16:06:30 -0800 (PST)</td>\n",
       "      <td>debra.perlingiere@enron.com</td>\n",
       "      <td>&lt;17383820.1075861285819.JavaMail.evans@thyme&gt;</td>\n",
       "      <td>RE: GISB contract with DTE Energy Trading</td>\n",
       "      <td>targana@dteenergy.com</td>\n",
       "      <td>Perlingiere, Debra &lt;/O=ENRON/OU=NA/CN=RECIPIEN...</td>\n",
       "      <td>'Anthony Targan &lt;targana@dteenergy.com&gt;@ENRON'</td>\n",
       "      <td></td>\n",
       "      <td></td>\n",
       "      <td>\\n  Thanks for our email.  At the present tim...</td>\n",
       "      <td>perlingiere-d</td>\n",
       "      <td>sent_items</td>\n",
       "    </tr>\n",
       "    <tr>\n",
       "      <th>2</th>\n",
       "      <td>Thu, 15 Nov 2001 16:07:18 -0800 (PST)</td>\n",
       "      <td>debra.perlingiere@enron.com</td>\n",
       "      <td>&lt;11433168.1075861285841.JavaMail.evans@thyme&gt;</td>\n",
       "      <td></td>\n",
       "      <td>debra.perlingiere@enron.com</td>\n",
       "      <td>Perlingiere, Debra &lt;/O=ENRON/OU=NA/CN=RECIPIEN...</td>\n",
       "      <td>Perlingiere, Debra &lt;/O=ENRON/OU=NA/CN=RECIPIEN...</td>\n",
       "      <td></td>\n",
       "      <td></td>\n",
       "      <td>test\\n\\nDebra Perlingiere\\nEnron North America...</td>\n",
       "      <td>perlingiere-d</td>\n",
       "      <td>sent_items</td>\n",
       "    </tr>\n",
       "    <tr>\n",
       "      <th>3</th>\n",
       "      <td>Tue, 27 Nov 2001 08:51:53 -0800 (PST)</td>\n",
       "      <td>debra.perlingiere@enron.com</td>\n",
       "      <td>&lt;24587012.1075861285863.JavaMail.evans@thyme&gt;</td>\n",
       "      <td>RE: California Bar Results</td>\n",
       "      <td>yaron2k@yahoo.com</td>\n",
       "      <td>Perlingiere, Debra &lt;/O=ENRON/OU=NA/CN=RECIPIEN...</td>\n",
       "      <td>'Yaron Shaham &lt;yaron2k@yahoo.com&gt;@ENRON'</td>\n",
       "      <td></td>\n",
       "      <td></td>\n",
       "      <td>Congrats !  Words are inadequate to express my...</td>\n",
       "      <td>perlingiere-d</td>\n",
       "      <td>sent_items</td>\n",
       "    </tr>\n",
       "    <tr>\n",
       "      <th>4</th>\n",
       "      <td>Wed, 10 Oct 2001 12:51:21 -0700 (PDT)</td>\n",
       "      <td>debra.perlingiere@enron.com</td>\n",
       "      <td>&lt;21707489.1075852243982.JavaMail.evans@thyme&gt;</td>\n",
       "      <td></td>\n",
       "      <td>t..hodge@enron.com, e..dickson@enron.com, gera...</td>\n",
       "      <td>Perlingiere, Debra &lt;/O=ENRON/OU=NA/CN=RECIPIEN...</td>\n",
       "      <td>Hodge, Jeffrey T. &lt;/O=ENRON/OU=NA/CN=RECIPIENT...</td>\n",
       "      <td></td>\n",
       "      <td></td>\n",
       "      <td>\\t\\n I will be leaving around 5:00  on Friday ...</td>\n",
       "      <td>perlingiere-d</td>\n",
       "      <td>sent_items</td>\n",
       "    </tr>\n",
       "  </tbody>\n",
       "</table>\n",
       "</div>"
      ],
      "text/plain": [
       "                                    Date                         From  \\\n",
       "0  Thu, 15 Nov 2001 14:01:53 -0800 (PST)  debra.perlingiere@enron.com   \n",
       "1  Thu, 15 Nov 2001 16:06:30 -0800 (PST)  debra.perlingiere@enron.com   \n",
       "2  Thu, 15 Nov 2001 16:07:18 -0800 (PST)  debra.perlingiere@enron.com   \n",
       "3  Tue, 27 Nov 2001 08:51:53 -0800 (PST)  debra.perlingiere@enron.com   \n",
       "4  Wed, 10 Oct 2001 12:51:21 -0700 (PDT)  debra.perlingiere@enron.com   \n",
       "\n",
       "                                      Message-ID  \\\n",
       "0   <5141907.1075861285797.JavaMail.evans@thyme>   \n",
       "1  <17383820.1075861285819.JavaMail.evans@thyme>   \n",
       "2  <11433168.1075861285841.JavaMail.evans@thyme>   \n",
       "3  <24587012.1075861285863.JavaMail.evans@thyme>   \n",
       "4  <21707489.1075852243982.JavaMail.evans@thyme>   \n",
       "\n",
       "                                     Subject  \\\n",
       "0                  RE: Willamette Industries   \n",
       "1  RE: GISB contract with DTE Energy Trading   \n",
       "2                                              \n",
       "3                 RE: California Bar Results   \n",
       "4                                              \n",
       "\n",
       "                                                  To  \\\n",
       "0                       credit <.williams@enron.com>   \n",
       "1                              targana@dteenergy.com   \n",
       "2                        debra.perlingiere@enron.com   \n",
       "3                                  yaron2k@yahoo.com   \n",
       "4  t..hodge@enron.com, e..dickson@enron.com, gera...   \n",
       "\n",
       "                                              X-From  \\\n",
       "0  Perlingiere, Debra </O=ENRON/OU=NA/CN=RECIPIEN...   \n",
       "1  Perlingiere, Debra </O=ENRON/OU=NA/CN=RECIPIEN...   \n",
       "2  Perlingiere, Debra </O=ENRON/OU=NA/CN=RECIPIEN...   \n",
       "3  Perlingiere, Debra </O=ENRON/OU=NA/CN=RECIPIEN...   \n",
       "4  Perlingiere, Debra </O=ENRON/OU=NA/CN=RECIPIEN...   \n",
       "\n",
       "                                                X-To X-bcc  \\\n",
       "0  Williams, Jason R (Credit) </O=ENRON/OU=NA/CN=...         \n",
       "1     'Anthony Targan <targana@dteenergy.com>@ENRON'         \n",
       "2  Perlingiere, Debra </O=ENRON/OU=NA/CN=RECIPIEN...         \n",
       "3           'Yaron Shaham <yaron2k@yahoo.com>@ENRON'         \n",
       "4  Hodge, Jeffrey T. </O=ENRON/OU=NA/CN=RECIPIENT...         \n",
       "\n",
       "                                                X-cc  \\\n",
       "0  Fuller, Dave </O=ENRON/OU=NA/CN=RECIPIENTS/CN=...   \n",
       "1                                                      \n",
       "2                                                      \n",
       "3                                                      \n",
       "4                                                      \n",
       "\n",
       "                                                body        mailbox  \\\n",
       "0  Attached is a draft of the Willamette Industri...  perlingiere-d   \n",
       "1   \\n  Thanks for our email.  At the present tim...  perlingiere-d   \n",
       "2  test\\n\\nDebra Perlingiere\\nEnron North America...  perlingiere-d   \n",
       "3  Congrats !  Words are inadequate to express my...  perlingiere-d   \n",
       "4  \\t\\n I will be leaving around 5:00  on Friday ...  perlingiere-d   \n",
       "\n",
       "    subFolder  \n",
       "0  sent_items  \n",
       "1  sent_items  \n",
       "2  sent_items  \n",
       "3  sent_items  \n",
       "4  sent_items  "
      ]
     },
     "execution_count": 34,
     "metadata": {},
     "output_type": "execute_result"
    }
   ],
   "source": [
    "# Sanity Test\n",
    "enron_email_df.head()"
   ]
  },
  {
   "cell_type": "code",
   "execution_count": 35,
   "metadata": {
    "collapsed": false,
    "deletable": true,
    "editable": true
   },
   "outputs": [],
   "source": [
    "\n",
    "# Loop through dataframe of messages and calculate the lengeth of every field in Bytes\n",
    "# You could add any number of fields you are interested in; following calculed lengths for only 4 fields\n",
    "# data will have a list of dictionaries; a dictionary for every message, \n",
    "# the octionary will have the length of every field for every message\n",
    "\n",
    "enron_email_df.fillna(\"\", inplace=True)\n",
    "\n",
    "\n",
    "data = []\n",
    "\n",
    "for i in enron_email_df.index:\n",
    "    message_data = {}\n",
    "    message_data['From'] = len(enron_email_df.ix[i]['From'])\n",
    "    message_data['To'] = len(enron_email_df.ix[i]['To'])\n",
    "    message_data['Subject'] = len(enron_email_df.ix[i]['Subject'])\n",
    "    message_data['body'] = len(enron_email_df.ix[i]['body'])\n",
    "    data.append(message_data)"
   ]
  },
  {
   "cell_type": "code",
   "execution_count": 36,
   "metadata": {
    "collapsed": false,
    "deletable": true,
    "editable": true
   },
   "outputs": [],
   "source": [
    "#Now create a data frame such that we can get summary statistics about the messages and the fields\n",
    "\n",
    "enron_email_field_lengths_df = DataFrame(data)"
   ]
  },
  {
   "cell_type": "code",
   "execution_count": 37,
   "metadata": {
    "collapsed": false,
    "deletable": true,
    "editable": true
   },
   "outputs": [
    {
     "data": {
      "text/html": [
       "<div>\n",
       "<table border=\"1\" class=\"dataframe\">\n",
       "  <thead>\n",
       "    <tr style=\"text-align: right;\">\n",
       "      <th></th>\n",
       "      <th>From</th>\n",
       "      <th>Subject</th>\n",
       "      <th>To</th>\n",
       "      <th>body</th>\n",
       "    </tr>\n",
       "  </thead>\n",
       "  <tbody>\n",
       "    <tr>\n",
       "      <th>0</th>\n",
       "      <td>27</td>\n",
       "      <td>25</td>\n",
       "      <td>28</td>\n",
       "      <td>495</td>\n",
       "    </tr>\n",
       "    <tr>\n",
       "      <th>1</th>\n",
       "      <td>27</td>\n",
       "      <td>41</td>\n",
       "      <td>21</td>\n",
       "      <td>936</td>\n",
       "    </tr>\n",
       "    <tr>\n",
       "      <th>2</th>\n",
       "      <td>27</td>\n",
       "      <td>0</td>\n",
       "      <td>27</td>\n",
       "      <td>157</td>\n",
       "    </tr>\n",
       "    <tr>\n",
       "      <th>3</th>\n",
       "      <td>27</td>\n",
       "      <td>26</td>\n",
       "      <td>17</td>\n",
       "      <td>2149</td>\n",
       "    </tr>\n",
       "    <tr>\n",
       "      <th>4</th>\n",
       "      <td>27</td>\n",
       "      <td>0</td>\n",
       "      <td>93</td>\n",
       "      <td>212</td>\n",
       "    </tr>\n",
       "  </tbody>\n",
       "</table>\n",
       "</div>"
      ],
      "text/plain": [
       "   From  Subject  To  body\n",
       "0    27       25  28   495\n",
       "1    27       41  21   936\n",
       "2    27        0  27   157\n",
       "3    27       26  17  2149\n",
       "4    27        0  93   212"
      ]
     },
     "execution_count": 37,
     "metadata": {},
     "output_type": "execute_result"
    }
   ],
   "source": [
    "enron_email_field_lengths_df.head()"
   ]
  },
  {
   "cell_type": "markdown",
   "metadata": {
    "deletable": true,
    "editable": true
   },
   "source": [
    "### Basic stat summary of all messages in the sample collection using describe"
   ]
  },
  {
   "cell_type": "code",
   "execution_count": 38,
   "metadata": {
    "collapsed": false,
    "deletable": true,
    "editable": true
   },
   "outputs": [
    {
     "data": {
      "text/html": [
       "<div>\n",
       "<table border=\"1\" class=\"dataframe\">\n",
       "  <thead>\n",
       "    <tr style=\"text-align: right;\">\n",
       "      <th></th>\n",
       "      <th>From</th>\n",
       "      <th>Subject</th>\n",
       "      <th>To</th>\n",
       "      <th>body</th>\n",
       "    </tr>\n",
       "  </thead>\n",
       "  <tbody>\n",
       "    <tr>\n",
       "      <th>count</th>\n",
       "      <td>1000.000000</td>\n",
       "      <td>1000.00000</td>\n",
       "      <td>1000.000000</td>\n",
       "      <td>1000.000000</td>\n",
       "    </tr>\n",
       "    <tr>\n",
       "      <th>mean</th>\n",
       "      <td>23.032000</td>\n",
       "      <td>33.37900</td>\n",
       "      <td>248.645000</td>\n",
       "      <td>2486.009000</td>\n",
       "    </tr>\n",
       "    <tr>\n",
       "      <th>std</th>\n",
       "      <td>3.383848</td>\n",
       "      <td>21.00263</td>\n",
       "      <td>948.659244</td>\n",
       "      <td>5873.329993</td>\n",
       "    </tr>\n",
       "    <tr>\n",
       "      <th>min</th>\n",
       "      <td>13.000000</td>\n",
       "      <td>0.00000</td>\n",
       "      <td>0.000000</td>\n",
       "      <td>2.000000</td>\n",
       "    </tr>\n",
       "    <tr>\n",
       "      <th>25%</th>\n",
       "      <td>20.000000</td>\n",
       "      <td>17.00000</td>\n",
       "      <td>22.000000</td>\n",
       "      <td>281.000000</td>\n",
       "    </tr>\n",
       "    <tr>\n",
       "      <th>50%</th>\n",
       "      <td>23.000000</td>\n",
       "      <td>31.00000</td>\n",
       "      <td>24.000000</td>\n",
       "      <td>778.000000</td>\n",
       "    </tr>\n",
       "    <tr>\n",
       "      <th>75%</th>\n",
       "      <td>25.000000</td>\n",
       "      <td>48.00000</td>\n",
       "      <td>82.000000</td>\n",
       "      <td>1967.000000</td>\n",
       "    </tr>\n",
       "    <tr>\n",
       "      <th>max</th>\n",
       "      <td>45.000000</td>\n",
       "      <td>132.00000</td>\n",
       "      <td>15292.000000</td>\n",
       "      <td>46100.000000</td>\n",
       "    </tr>\n",
       "  </tbody>\n",
       "</table>\n",
       "</div>"
      ],
      "text/plain": [
       "              From     Subject            To          body\n",
       "count  1000.000000  1000.00000   1000.000000   1000.000000\n",
       "mean     23.032000    33.37900    248.645000   2486.009000\n",
       "std       3.383848    21.00263    948.659244   5873.329993\n",
       "min      13.000000     0.00000      0.000000      2.000000\n",
       "25%      20.000000    17.00000     22.000000    281.000000\n",
       "50%      23.000000    31.00000     24.000000    778.000000\n",
       "75%      25.000000    48.00000     82.000000   1967.000000\n",
       "max      45.000000   132.00000  15292.000000  46100.000000"
      ]
     },
     "execution_count": 38,
     "metadata": {},
     "output_type": "execute_result"
    }
   ],
   "source": [
    "enron_email_field_lengths_df.describe()"
   ]
  },
  {
   "cell_type": "markdown",
   "metadata": {
    "deletable": true,
    "editable": true
   },
   "source": [
    "### What is total size(bytes) for every field of  all messages in the sample collection?"
   ]
  },
  {
   "cell_type": "code",
   "execution_count": 39,
   "metadata": {
    "collapsed": false,
    "deletable": true,
    "editable": true
   },
   "outputs": [
    {
     "data": {
      "text/plain": [
       "From         23032\n",
       "Subject      33379\n",
       "To          248645\n",
       "body       2486009\n",
       "dtype: int64"
      ]
     },
     "execution_count": 39,
     "metadata": {},
     "output_type": "execute_result"
    }
   ],
   "source": [
    "enron_email_field_lengths_df.sum(axis=0)"
   ]
  },
  {
   "cell_type": "markdown",
   "metadata": {
    "deletable": true,
    "editable": true
   },
   "source": [
    "### What is the size (bytes) of every message in the set of first 10 messages in the sample collection (all fields included)?"
   ]
  },
  {
   "cell_type": "code",
   "execution_count": 40,
   "metadata": {
    "collapsed": false,
    "deletable": true,
    "editable": true
   },
   "outputs": [
    {
     "data": {
      "text/plain": [
       "0     575\n",
       "1    1025\n",
       "2     211\n",
       "3    2219\n",
       "4     332\n",
       "5    1036\n",
       "6    1481\n",
       "7     902\n",
       "8     392\n",
       "9     345\n",
       "dtype: int64"
      ]
     },
     "execution_count": 40,
     "metadata": {},
     "output_type": "execute_result"
    }
   ],
   "source": [
    "enron_email_field_lengths_df[:10].sum(axis=1)"
   ]
  },
  {
   "cell_type": "markdown",
   "metadata": {
    "deletable": true,
    "editable": true
   },
   "source": [
    "### What is the minimum  message size of ALL messages in the collection (all fields included)?"
   ]
  },
  {
   "cell_type": "code",
   "execution_count": 41,
   "metadata": {
    "collapsed": false,
    "deletable": true,
    "editable": true
   },
   "outputs": [
    {
     "data": {
      "text/plain": [
       "43"
      ]
     },
     "execution_count": 41,
     "metadata": {},
     "output_type": "execute_result"
    }
   ],
   "source": [
    "enron_email_field_lengths_df.sum(axis=1).min(axis=0)"
   ]
  },
  {
   "cell_type": "markdown",
   "metadata": {
    "deletable": true,
    "editable": true
   },
   "source": [
    "### Deliverable #1: What is the mean  message size of all messages in the collection (all fields included)?"
   ]
  },
  {
   "cell_type": "code",
   "execution_count": 42,
   "metadata": {
    "collapsed": false,
    "deletable": true,
    "editable": true
   },
   "outputs": [
    {
     "data": {
      "text/plain": [
       "2791.0650000000001"
      ]
     },
     "execution_count": 42,
     "metadata": {},
     "output_type": "execute_result"
    }
   ],
   "source": [
    "enron_email_field_lengths_df.sum(axis=1).mean(axis=0)"
   ]
  },
  {
   "cell_type": "markdown",
   "metadata": {
    "deletable": true,
    "editable": true
   },
   "source": [
    "### Deliverable #2: What is the max  message size of all messages in the collection (all fields included)?"
   ]
  },
  {
   "cell_type": "code",
   "execution_count": 43,
   "metadata": {
    "collapsed": false,
    "deletable": true,
    "editable": true
   },
   "outputs": [
    {
     "data": {
      "text/plain": [
       "46295"
      ]
     },
     "execution_count": 43,
     "metadata": {},
     "output_type": "execute_result"
    }
   ],
   "source": [
    "enron_email_field_lengths_df.sum(axis=1).max(axis=0)"
   ]
  },
  {
   "cell_type": "markdown",
   "metadata": {
    "deletable": true,
    "editable": true
   },
   "source": [
    "### Deliverable #3: What is the median size for every field of all messages?"
   ]
  },
  {
   "cell_type": "code",
   "execution_count": 44,
   "metadata": {
    "collapsed": false,
    "deletable": true,
    "editable": true
   },
   "outputs": [
    {
     "data": {
      "text/plain": [
       "From        23.0\n",
       "Subject     31.0\n",
       "To          24.0\n",
       "body       778.0\n",
       "dtype: float64"
      ]
     },
     "execution_count": 44,
     "metadata": {},
     "output_type": "execute_result"
    }
   ],
   "source": [
    "enron_email_field_lengths_df.median(axis=0)"
   ]
  },
  {
   "cell_type": "markdown",
   "metadata": {
    "deletable": true,
    "editable": true
   },
   "source": [
    "### Deliverable #4: Do you think of any metric/stat that must be considered in the analysis? show data output for it."
   ]
  },
  {
   "cell_type": "code",
   "execution_count": 45,
   "metadata": {
    "collapsed": false,
    "deletable": true,
    "editable": true
   },
   "outputs": [
    {
     "data": {
      "text/plain": [
       "From          3.383848\n",
       "Subject      21.002630\n",
       "To          948.659244\n",
       "body       5873.329993\n",
       "dtype: float64"
      ]
     },
     "execution_count": 45,
     "metadata": {},
     "output_type": "execute_result"
    }
   ],
   "source": [
    "enron_email_field_lengths_df.std(axis=0)"
   ]
  },
  {
   "cell_type": "code",
   "execution_count": null,
   "metadata": {
    "collapsed": true,
    "deletable": true,
    "editable": true
   },
   "outputs": [],
   "source": []
  }
 ],
 "metadata": {
  "kernelspec": {
   "display_name": "Python 2",
   "language": "python",
   "name": "python2"
  },
  "language_info": {
   "codemirror_mode": {
    "name": "ipython",
    "version": 2
   },
   "file_extension": ".py",
   "mimetype": "text/x-python",
   "name": "python",
   "nbconvert_exporter": "python",
   "pygments_lexer": "ipython2",
   "version": "2.7.11"
  }
 },
 "nbformat": 4,
 "nbformat_minor": 0
}
